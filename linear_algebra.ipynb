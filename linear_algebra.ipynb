{
 "cells": [
  {
   "cell_type": "markdown",
   "metadata": {},
   "source": [
    "## 1. Загрузка данных"
   ]
  },
  {
   "cell_type": "code",
   "execution_count": 2,
   "metadata": {},
   "outputs": [],
   "source": [
    "import pandas as pd\n",
    "import numpy as np\n",
    "from sklearn.linear_model import LinearRegression\n",
    "from sklearn.metrics import mean_squared_error\n",
    "from sklearn.model_selection import train_test_split\n",
    "import matplotlib.pyplot as plt\n",
    "import warnings\n",
    "warnings.filterwarnings('ignore')"
   ]
  },
  {
   "cell_type": "markdown",
   "metadata": {},
   "source": [
    "Загрузим данные и изучим их состояние."
   ]
  },
  {
   "cell_type": "code",
   "execution_count": 4,
   "metadata": {},
   "outputs": [
    {
     "name": "stdout",
     "output_type": "stream",
     "text": [
      "      Unnamed: 0  Пол  Возраст  Зарплата  Члены семьи  Страховые выплаты\n",
      "0              0    1     41.0   49600.0            1                  0\n",
      "1              1    0     46.0   38000.0            1                  1\n",
      "2              2    0     29.0   21000.0            0                  0\n",
      "3              3    0     21.0   41700.0            2                  0\n",
      "4              4    1     28.0   26100.0            0                  0\n",
      "...          ...  ...      ...       ...          ...                ...\n",
      "4995        4995    0     28.0   35700.0            2                  0\n",
      "4996        4996    0     34.0   52400.0            1                  0\n",
      "4997        4997    0     20.0   33900.0            2                  0\n",
      "4998        4998    1     22.0   32700.0            3                  0\n",
      "4999        4999    1     28.0   40600.0            1                  0\n",
      "\n",
      "[5000 rows x 6 columns]\n"
     ]
    }
   ],
   "source": [
    "df = pd.read_csv('./insurance.csv')\n",
    "print(df)"
   ]
  },
  {
   "cell_type": "code",
   "execution_count": 3,
   "metadata": {},
   "outputs": [
    {
     "data": {
      "text/html": [
       "<div>\n",
       "<style scoped>\n",
       "    .dataframe tbody tr th:only-of-type {\n",
       "        vertical-align: middle;\n",
       "    }\n",
       "\n",
       "    .dataframe tbody tr th {\n",
       "        vertical-align: top;\n",
       "    }\n",
       "\n",
       "    .dataframe thead th {\n",
       "        text-align: right;\n",
       "    }\n",
       "</style>\n",
       "<table border=\"1\" class=\"dataframe\">\n",
       "  <thead>\n",
       "    <tr style=\"text-align: right;\">\n",
       "      <th></th>\n",
       "      <th>count</th>\n",
       "      <th>mean</th>\n",
       "      <th>std</th>\n",
       "      <th>min</th>\n",
       "      <th>25%</th>\n",
       "      <th>50%</th>\n",
       "      <th>75%</th>\n",
       "      <th>max</th>\n",
       "    </tr>\n",
       "  </thead>\n",
       "  <tbody>\n",
       "    <tr>\n",
       "      <td>Пол</td>\n",
       "      <td>5000.0</td>\n",
       "      <td>0.4990</td>\n",
       "      <td>0.500049</td>\n",
       "      <td>0.0</td>\n",
       "      <td>0.0</td>\n",
       "      <td>0.0</td>\n",
       "      <td>1.0</td>\n",
       "      <td>1.0</td>\n",
       "    </tr>\n",
       "    <tr>\n",
       "      <td>Возраст</td>\n",
       "      <td>5000.0</td>\n",
       "      <td>30.9528</td>\n",
       "      <td>8.440807</td>\n",
       "      <td>18.0</td>\n",
       "      <td>24.0</td>\n",
       "      <td>30.0</td>\n",
       "      <td>37.0</td>\n",
       "      <td>65.0</td>\n",
       "    </tr>\n",
       "    <tr>\n",
       "      <td>Зарплата</td>\n",
       "      <td>5000.0</td>\n",
       "      <td>39916.3600</td>\n",
       "      <td>9900.083569</td>\n",
       "      <td>5300.0</td>\n",
       "      <td>33300.0</td>\n",
       "      <td>40200.0</td>\n",
       "      <td>46600.0</td>\n",
       "      <td>79000.0</td>\n",
       "    </tr>\n",
       "    <tr>\n",
       "      <td>Члены семьи</td>\n",
       "      <td>5000.0</td>\n",
       "      <td>1.1942</td>\n",
       "      <td>1.091387</td>\n",
       "      <td>0.0</td>\n",
       "      <td>0.0</td>\n",
       "      <td>1.0</td>\n",
       "      <td>2.0</td>\n",
       "      <td>6.0</td>\n",
       "    </tr>\n",
       "    <tr>\n",
       "      <td>Страховые выплаты</td>\n",
       "      <td>5000.0</td>\n",
       "      <td>0.1480</td>\n",
       "      <td>0.463183</td>\n",
       "      <td>0.0</td>\n",
       "      <td>0.0</td>\n",
       "      <td>0.0</td>\n",
       "      <td>0.0</td>\n",
       "      <td>5.0</td>\n",
       "    </tr>\n",
       "  </tbody>\n",
       "</table>\n",
       "</div>"
      ],
      "text/plain": [
       "                    count        mean          std     min      25%      50%  \\\n",
       "Пол                5000.0      0.4990     0.500049     0.0      0.0      0.0   \n",
       "Возраст            5000.0     30.9528     8.440807    18.0     24.0     30.0   \n",
       "Зарплата           5000.0  39916.3600  9900.083569  5300.0  33300.0  40200.0   \n",
       "Члены семьи        5000.0      1.1942     1.091387     0.0      0.0      1.0   \n",
       "Страховые выплаты  5000.0      0.1480     0.463183     0.0      0.0      0.0   \n",
       "\n",
       "                       75%      max  \n",
       "Пол                    1.0      1.0  \n",
       "Возраст               37.0     65.0  \n",
       "Зарплата           46600.0  79000.0  \n",
       "Члены семьи            2.0      6.0  \n",
       "Страховые выплаты      0.0      5.0  "
      ]
     },
     "metadata": {},
     "output_type": "display_data"
    },
    {
     "name": "stdout",
     "output_type": "stream",
     "text": [
      "<class 'pandas.core.frame.DataFrame'>\n",
      "RangeIndex: 5000 entries, 0 to 4999\n",
      "Data columns (total 5 columns):\n",
      "Пол                  5000 non-null int64\n",
      "Возраст              5000 non-null float64\n",
      "Зарплата             5000 non-null float64\n",
      "Члены семьи          5000 non-null int64\n",
      "Страховые выплаты    5000 non-null int64\n",
      "dtypes: float64(2), int64(3)\n",
      "memory usage: 195.4 KB\n"
     ]
    },
    {
     "data": {
      "text/plain": [
       "None"
      ]
     },
     "metadata": {},
     "output_type": "display_data"
    }
   ],
   "source": [
    "display(df.describe().T)\n",
    "display(df.info())"
   ]
  },
  {
   "cell_type": "markdown",
   "metadata": {},
   "source": [
    "Проверим распределение данных"
   ]
  },
  {
   "cell_type": "code",
   "execution_count": 4,
   "metadata": {},
   "outputs": [
    {
     "data": {
      "text/plain": [
       "array([[<matplotlib.axes._subplots.AxesSubplot object at 0x7fe37ec6c2b0>,\n",
       "        <matplotlib.axes._subplots.AxesSubplot object at 0x7fe37ebd03c8>],\n",
       "       [<matplotlib.axes._subplots.AxesSubplot object at 0x7fe37ec00978>,\n",
       "        <matplotlib.axes._subplots.AxesSubplot object at 0x7fe37ebb4748>],\n",
       "       [<matplotlib.axes._subplots.AxesSubplot object at 0x7fe37eb66cc0>,\n",
       "        <matplotlib.axes._subplots.AxesSubplot object at 0x7fe37eb252b0>]],\n",
       "      dtype=object)"
      ]
     },
     "execution_count": 4,
     "metadata": {},
     "output_type": "execute_result"
    },
    {
     "data": {
      "image/png": "[encoded data removed]",
      "text/plain": [
       "<Figure size 1152x720 with 6 Axes>"
      ]
     },
     "metadata": {
      "needs_background": "light"
     },
     "output_type": "display_data"
    }
   ],
   "source": [
    "fig = plt.figure(figsize = (16, 10))\n",
    "ax = fig.gca()\n",
    "df.hist(figsize=(16,5), ax = ax, bins=30)"
   ]
  },
  {
   "cell_type": "markdown",
   "metadata": {},
   "source": [
    "Похоже, что все хорошо и дополнительная обработка данных не нужна"
   ]
  },
  {
   "cell_type": "markdown",
   "metadata": {},
   "source": [
    "<font color=\"blue\">Отлично"
   ]
  },
  {
   "cell_type": "markdown",
   "metadata": {},
   "source": [
    "## 2. Умножение матриц"
   ]
  },
  {
   "cell_type": "markdown",
   "metadata": {},
   "source": [
    "В этом задании вы можете записывать формулы в *Jupyter Notebook.*\n",
    "\n",
    "Чтобы записать формулу внутри текста, окружите её символами доллара \\\\$; если снаружи —  двойными символами \\\\$\\\\$. Эти формулы записываются на языке вёрстки *LaTeX.* \n",
    "\n",
    "Для примера мы записали формулы линейной регрессии. Можете их скопировать и отредактировать, чтобы решить задачу.\n",
    "\n",
    "Работать в *LaTeX* необязательно."
   ]
  },
  {
   "cell_type": "markdown",
   "metadata": {},
   "source": [
    "Обозначения:\n",
    "\n",
    "- $X$ — матрица признаков (нулевой столбец состоит из единиц)\n",
    "\n",
    "- $y$ — вектор целевого признака\n",
    "\n",
    "- $P$ — матрица, на которую умножаются признаки\n",
    "\n",
    "- $w$ — вектор весов линейной регрессии (нулевой элемент равен сдвигу)"
   ]
  },
  {
   "cell_type": "markdown",
   "metadata": {},
   "source": [
    "Предсказания:\n",
    "\n",
    "$$\n",
    "a = Xw\n",
    "$$\n",
    "\n",
    "Задача обучения:\n",
    "\n",
    "$$\n",
    "w = \\arg\\min_w MSE(Xw, y)\n",
    "$$\n",
    "\n",
    "Формула обучения:\n",
    "\n",
    "$$\n",
    "w = (X^T X)^{-1} X^T y\n",
    "$$"
   ]
  },
  {
   "cell_type": "markdown",
   "metadata": {},
   "source": [
    "**Ответ:**  \n",
    "Нет, не изменится  \n",
    "**Обоснование:**  \n",
    "Допустим, что качество изменится.  \n",
    "Умножим формулу предсказания на матрицу Р и сравним ее с неизмененной формулой.  \n",
    "\n",
    "\n",
    "$$\n",
    "(PX)(P𝑤)\\not{=} 𝑋𝑤 \n",
    "$$\n",
    "Разложим неравенство по формуле обучения\n",
    "\n",
    "$$\n",
    "PX  (Р^{T}X^{T} PX)^{-1} P^{T}X^{T} y \\not{=} X(X^T X)^{-1} X^T y\n",
    "$$\n",
    "\n",
    "\n",
    "$$\n",
    "PX  (Р^{T}(X^{T}) (PX))^{-1} P^{T}X^{T} y \\not{=} X(X^T X)^{-1} X^T y\n",
    "$$\n",
    "\n",
    "Разложим обратную от произведения матриц как произведение обратных матриц\n",
    "\n",
    "\n",
    "$$\n",
    "PX (PX)^{-1} (Р^{T}X^{T})^{-1}  P^{T}X^{T} y \\not{=} X X^{-1} (X^T)^{-1} X^T y\n",
    "$$\n",
    "\n",
    "Сделаем аналогичное для обратных матриц\n",
    "\n",
    "$$\n",
    "PX X^{-1} P^{-1} X^{-1T} Р^{-1T}  P^{T}X^{T} y \\not{=} X X^{-1} (X^T)^{-1} X^T y\n",
    "$$\n",
    "\n",
    "$$\n",
    "P E P^{-1} X^{-1T} E X^{T} y \\not{=} X X^{-1} (X^T)^{-1} X^T y\n",
    "$$\n",
    "\n",
    "$$\n",
    "P P^{-1} X^{-1T} X^{T} y \\not{=} X X^{-1} (X^T)^{-1} X^T y\n",
    "$$\n",
    "\n",
    "Полученное неравенство сократим до единичных матриц\n",
    "\n",
    "$$\n",
    "E E y \\not{=} E E y\n",
    "$$\n",
    "$$\n",
    "y \\not{=} y\n",
    "$$\n",
    "Сократив уравнение получим противоречие. Значит, при умножение на обратимую матрицу признаков модели - предсказания не изменятся."
   ]
  },
  {
   "cell_type": "markdown",
   "metadata": {},
   "source": [
    "Осталось понять как будет связана новая матрица с оригинальной.  \n",
    "Имеем $A  B = C$,  \n",
    "где А - исходная матрица  \n",
    "В - матрица пребразования  \n",
    "С - новая матрица  \n",
    "\n",
    "умножим обе стороны на $B^{-1}$,  получим\n",
    "$$\n",
    "A B B^{-1} = C  B^{-1}  \n",
    "$$\n",
    "$$\n",
    "A E= C  B^{-1}\n",
    "$$\n",
    "$$\n",
    "A = C B^{-1}\n",
    "$$\n",
    "\n",
    "значит, чтобы получить исходную матрицу из новой, достаточно будет умножить новую на исходную"
   ]
  },
  {
   "cell_type": "markdown",
   "metadata": {},
   "source": [
    "## 3. Алгоритм преобразования"
   ]
  },
  {
   "cell_type": "markdown",
   "metadata": {},
   "source": [
    "**Алгоритм**\n",
    "\n",
    "На вход функции преобразования поступает исходная матрица с данными. В функции вычисляется ширина (n) полученной матрицы и генерируется новая обратимая матрица размера n. Умножив сгенерированную матрицу на исходную получим необходимый шифрованный набор данных. "
   ]
  },
  {
   "cell_type": "markdown",
   "metadata": {},
   "source": [
    "**Обоснование**\n",
    "\n",
    "Т.к. мы генерируем обратимую матрицу, мы можем быть уверены, что согласно обоснованию выше у нас получится сократить формулу до единичной матрицы.  \n",
    "Т.к. шанс генерации необратимой матрицы близок к нулю можем опустить обработку случаев генерации необратимой матрицы."
   ]
  },
  {
   "cell_type": "markdown",
   "metadata": {},
   "source": [
    "## 4. Проверка алгоритма"
   ]
  },
  {
   "cell_type": "markdown",
   "metadata": {},
   "source": [
    "Вынесем функцию перемножения полученной на входе матрицы на случайную, но одинаковую по ширине матрицы"
   ]
  },
  {
   "cell_type": "code",
   "execution_count": 5,
   "metadata": {},
   "outputs": [],
   "source": [
    "def matrix_transform(matrix_orig):\n",
    "    n = matrix_orig.shape[1]\n",
    "    det_a = 0\n",
    "    while det_a == 0:\n",
    "        a = np.random.randn(n, n)\n",
    "        det_a = np.linalg.det(a)\n",
    "    \n",
    "    return matrix_orig @ a"
   ]
  },
  {
   "cell_type": "markdown",
   "metadata": {},
   "source": [
    "Вынесем функцию вычисления rmse линейной регрессии на входных данных"
   ]
  },
  {
   "cell_type": "code",
   "execution_count": 9,
   "metadata": {},
   "outputs": [],
   "source": [
    "def model_check(features, target):\n",
    "    model = LinearRegression()\n",
    "    features_train, features_valid, target_train, target_valid = train_test_split(features, \n",
    "                                                                              target, \n",
    "                                                                              test_size=0.25, \n",
    "                                                                              random_state = 123)\n",
    "    model.fit(features_train, target_train)\n",
    "    predicted_valid = model.predict(features_valid)\n",
    "    matrix_transform(features_train.values)\n",
    "    rmse = mean_squared_error(target_valid, predicted_valid) ** 0.5\n",
    "    print(\"rmse:\", rmse)"
   ]
  },
  {
   "cell_type": "markdown",
   "metadata": {},
   "source": [
    "Выполним проверку на оригинальных данных."
   ]
  },
  {
   "cell_type": "code",
   "execution_count": 10,
   "metadata": {},
   "outputs": [
    {
     "name": "stdout",
     "output_type": "stream",
     "text": [
      "rmse: 0.358808094067641\n"
     ]
    }
   ],
   "source": [
    "target = df[\"Страховые выплаты\"]\n",
    "features = df.drop([\"Страховые выплаты\"], axis = 1)\n",
    "\n",
    "model_check(features, target)"
   ]
  },
  {
   "cell_type": "markdown",
   "metadata": {},
   "source": [
    "А теперь предварительно изменим нашу матрицу признаков."
   ]
  },
  {
   "cell_type": "code",
   "execution_count": 11,
   "metadata": {},
   "outputs": [
    {
     "name": "stdout",
     "output_type": "stream",
     "text": [
      "rmse: 0.35880809406736097\n"
     ]
    }
   ],
   "source": [
    "target = df[\"Страховые выплаты\"]\n",
    "features = df.drop([\"Страховые выплаты\"], axis = 1)\n",
    "\n",
    "features = matrix_transform(features)\n",
    "\n",
    "model_check(features, target)"
   ]
  },
  {
   "cell_type": "markdown",
   "metadata": {},
   "source": [
    "Получим практически одинаковые значения. Незначительная разница объясняется возможными ошибками округления при операциях с плавающей точкой (умножение сгенерированой матрицы на оригинальную)\n",
    "\n",
    "Т.е. отправляя признаки для генерации предсказаний их легко можно зашифровать умножив на обратимую матрицу одинаковую по ширине.  \n",
    "\n",
    "Получить изначальные данные из зашифрованной таблице можно перемножив на обратную матрицу от той, что использовали для шифрования."
   ]
  }
 ],
 "metadata": {
  "kernelspec": {
   "display_name": "Python 3",
   "language": "python",
   "name": "python3"
  },
  "language_info": {
   "codemirror_mode": {
    "name": "ipython",
    "version": 3
   },
   "file_extension": ".py",
   "mimetype": "text/x-python",
   "name": "python",
   "nbconvert_exporter": "python",
   "pygments_lexer": "ipython3",
   "version": "3.7.7"
  }
 },
 "nbformat": 4,
 "nbformat_minor": 4
}
