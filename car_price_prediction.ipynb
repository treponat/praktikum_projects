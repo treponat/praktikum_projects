{
 "cells": [
  {
   "cell_type": "markdown",
   "metadata": {},
   "source": [
    "Сервис по продаже автомобилей с пробегом «Не бит, не крашен» разрабатывает приложение для привлечения новых клиентов. В нём можно быстро узнать рыночную стоимость своего автомобиля. В вашем распоряжении исторические данные: технические характеристики, комплектации и цены автомобилей. Вам нужно построить модель для определения стоимости. \n",
    "\n",
    "Заказчику важны:\n",
    "\n",
    "- качество предсказания;\n",
    "- скорость предсказания;\n",
    "- время обучения."
   ]
  },
  {
   "cell_type": "markdown",
   "metadata": {},
   "source": [
    "# 1. Подготовка данных"
   ]
  },
  {
   "cell_type": "code",
   "execution_count": 1,
   "metadata": {},
   "outputs": [],
   "source": [
    "import numpy as np\n",
    "import pandas as pd\n",
    "import lightgbm\n",
    "from sklearn.metrics import mean_squared_error\n",
    "from sklearn.model_selection import train_test_split\n",
    "from sklearn.preprocessing import LabelEncoder\n",
    "from sklearn.tree import DecisionTreeRegressor  \n",
    "from sklearn.model_selection import GridSearchCV\n",
    "\n",
    "\n",
    "import matplotlib.pyplot as plt\n",
    "import warnings\n",
    "warnings.filterwarnings('ignore')"
   ]
  },
  {
   "cell_type": "markdown",
   "metadata": {},
   "source": [
    "Отобразим базовую информацию о данных"
   ]
  },
  {
   "cell_type": "code",
   "execution_count": 2,
   "metadata": {
    "scrolled": true
   },
   "outputs": [
    {
     "data": {
      "text/html": [
       "<div>\n",
       "<style scoped>\n",
       "    .dataframe tbody tr th:only-of-type {\n",
       "        vertical-align: middle;\n",
       "    }\n",
       "\n",
       "    .dataframe tbody tr th {\n",
       "        vertical-align: top;\n",
       "    }\n",
       "\n",
       "    .dataframe thead th {\n",
       "        text-align: right;\n",
       "    }\n",
       "</style>\n",
       "<table border=\"1\" class=\"dataframe\">\n",
       "  <thead>\n",
       "    <tr style=\"text-align: right;\">\n",
       "      <th></th>\n",
       "      <th>count</th>\n",
       "      <th>mean</th>\n",
       "      <th>std</th>\n",
       "      <th>min</th>\n",
       "      <th>25%</th>\n",
       "      <th>50%</th>\n",
       "      <th>75%</th>\n",
       "      <th>max</th>\n",
       "    </tr>\n",
       "  </thead>\n",
       "  <tbody>\n",
       "    <tr>\n",
       "      <td>Price</td>\n",
       "      <td>354369.0</td>\n",
       "      <td>4416.656776</td>\n",
       "      <td>4514.158514</td>\n",
       "      <td>0.0</td>\n",
       "      <td>1050.0</td>\n",
       "      <td>2700.0</td>\n",
       "      <td>6400.0</td>\n",
       "      <td>20000.0</td>\n",
       "    </tr>\n",
       "    <tr>\n",
       "      <td>RegistrationYear</td>\n",
       "      <td>354369.0</td>\n",
       "      <td>2004.234448</td>\n",
       "      <td>90.227958</td>\n",
       "      <td>1000.0</td>\n",
       "      <td>1999.0</td>\n",
       "      <td>2003.0</td>\n",
       "      <td>2008.0</td>\n",
       "      <td>9999.0</td>\n",
       "    </tr>\n",
       "    <tr>\n",
       "      <td>Power</td>\n",
       "      <td>354369.0</td>\n",
       "      <td>110.094337</td>\n",
       "      <td>189.850405</td>\n",
       "      <td>0.0</td>\n",
       "      <td>69.0</td>\n",
       "      <td>105.0</td>\n",
       "      <td>143.0</td>\n",
       "      <td>20000.0</td>\n",
       "    </tr>\n",
       "    <tr>\n",
       "      <td>Kilometer</td>\n",
       "      <td>354369.0</td>\n",
       "      <td>128211.172535</td>\n",
       "      <td>37905.341530</td>\n",
       "      <td>5000.0</td>\n",
       "      <td>125000.0</td>\n",
       "      <td>150000.0</td>\n",
       "      <td>150000.0</td>\n",
       "      <td>150000.0</td>\n",
       "    </tr>\n",
       "    <tr>\n",
       "      <td>RegistrationMonth</td>\n",
       "      <td>354369.0</td>\n",
       "      <td>5.714645</td>\n",
       "      <td>3.726421</td>\n",
       "      <td>0.0</td>\n",
       "      <td>3.0</td>\n",
       "      <td>6.0</td>\n",
       "      <td>9.0</td>\n",
       "      <td>12.0</td>\n",
       "    </tr>\n",
       "    <tr>\n",
       "      <td>NumberOfPictures</td>\n",
       "      <td>354369.0</td>\n",
       "      <td>0.000000</td>\n",
       "      <td>0.000000</td>\n",
       "      <td>0.0</td>\n",
       "      <td>0.0</td>\n",
       "      <td>0.0</td>\n",
       "      <td>0.0</td>\n",
       "      <td>0.0</td>\n",
       "    </tr>\n",
       "    <tr>\n",
       "      <td>PostalCode</td>\n",
       "      <td>354369.0</td>\n",
       "      <td>50508.689087</td>\n",
       "      <td>25783.096248</td>\n",
       "      <td>1067.0</td>\n",
       "      <td>30165.0</td>\n",
       "      <td>49413.0</td>\n",
       "      <td>71083.0</td>\n",
       "      <td>99998.0</td>\n",
       "    </tr>\n",
       "  </tbody>\n",
       "</table>\n",
       "</div>"
      ],
      "text/plain": [
       "                      count           mean           std     min       25%  \\\n",
       "Price              354369.0    4416.656776   4514.158514     0.0    1050.0   \n",
       "RegistrationYear   354369.0    2004.234448     90.227958  1000.0    1999.0   \n",
       "Power              354369.0     110.094337    189.850405     0.0      69.0   \n",
       "Kilometer          354369.0  128211.172535  37905.341530  5000.0  125000.0   \n",
       "RegistrationMonth  354369.0       5.714645      3.726421     0.0       3.0   \n",
       "NumberOfPictures   354369.0       0.000000      0.000000     0.0       0.0   \n",
       "PostalCode         354369.0   50508.689087  25783.096248  1067.0   30165.0   \n",
       "\n",
       "                        50%       75%       max  \n",
       "Price                2700.0    6400.0   20000.0  \n",
       "RegistrationYear     2003.0    2008.0    9999.0  \n",
       "Power                 105.0     143.0   20000.0  \n",
       "Kilometer          150000.0  150000.0  150000.0  \n",
       "RegistrationMonth       6.0       9.0      12.0  \n",
       "NumberOfPictures        0.0       0.0       0.0  \n",
       "PostalCode          49413.0   71083.0   99998.0  "
      ]
     },
     "metadata": {},
     "output_type": "display_data"
    },
    {
     "name": "stdout",
     "output_type": "stream",
     "text": [
      "<class 'pandas.core.frame.DataFrame'>\n",
      "RangeIndex: 354369 entries, 0 to 354368\n",
      "Data columns (total 16 columns):\n",
      "DateCrawled          354369 non-null object\n",
      "Price                354369 non-null int64\n",
      "VehicleType          316879 non-null object\n",
      "RegistrationYear     354369 non-null int64\n",
      "Gearbox              334536 non-null object\n",
      "Power                354369 non-null int64\n",
      "Model                334664 non-null object\n",
      "Kilometer            354369 non-null int64\n",
      "RegistrationMonth    354369 non-null int64\n",
      "FuelType             321474 non-null object\n",
      "Brand                354369 non-null object\n",
      "NotRepaired          283215 non-null object\n",
      "DateCreated          354369 non-null object\n",
      "NumberOfPictures     354369 non-null int64\n",
      "PostalCode           354369 non-null int64\n",
      "LastSeen             354369 non-null object\n",
      "dtypes: int64(7), object(9)\n",
      "memory usage: 43.3+ MB\n"
     ]
    },
    {
     "data": {
      "text/plain": [
       "None"
      ]
     },
     "metadata": {},
     "output_type": "display_data"
    }
   ],
   "source": [
    "df = pd.read_csv(\"/datasets/autos.csv\")\n",
    "display(df.describe().T)\n",
    "display(df.info())"
   ]
  },
  {
   "cell_type": "markdown",
   "metadata": {},
   "source": [
    "Видим, что данные заполнены неоднородно, в некоторых колонках наблюдается значительное число пропусков, а также явно заметны несоответствующие данные. Например для колонки Power видим среднее значение 110, а максимальное 20000. Данные нуждаются в дополнительной предобработке. \\\n",
    "Отобразим численные данные в гистограммах"
   ]
  },
  {
   "cell_type": "code",
   "execution_count": 3,
   "metadata": {
    "scrolled": true
   },
   "outputs": [
    {
     "data": {
      "text/plain": [
       "array([[<matplotlib.axes._subplots.AxesSubplot object at 0x7f32b07f7a50>,\n",
       "        <matplotlib.axes._subplots.AxesSubplot object at 0x7f32b0790f50>,\n",
       "        <matplotlib.axes._subplots.AxesSubplot object at 0x7f32b07dea10>],\n",
       "       [<matplotlib.axes._subplots.AxesSubplot object at 0x7f32b06fe690>,\n",
       "        <matplotlib.axes._subplots.AxesSubplot object at 0x7f32b06aee90>,\n",
       "        <matplotlib.axes._subplots.AxesSubplot object at 0x7f32b06706d0>],\n",
       "       [<matplotlib.axes._subplots.AxesSubplot object at 0x7f32b0623ed0>,\n",
       "        <matplotlib.axes._subplots.AxesSubplot object at 0x7f32b05e5710>,\n",
       "        <matplotlib.axes._subplots.AxesSubplot object at 0x7f32b05f0290>]],\n",
       "      dtype=object)"
      ]
     },
     "execution_count": 3,
     "metadata": {},
     "output_type": "execute_result"
    },
    {
     "data": {
      "image/png": "[encoded data removed]",
      "text/plain": [
       "<Figure size 1152x720 with 9 Axes>"
      ]
     },
     "metadata": {
      "needs_background": "light"
     },
     "output_type": "display_data"
    }
   ],
   "source": [
    "fig = plt.figure(figsize = (16, 10))\n",
    "ax = fig.gca()\n",
    "df.hist(figsize=(16,5), ax = ax, bins=30)"
   ]
  },
  {
   "cell_type": "markdown",
   "metadata": {},
   "source": [
    "Хорошо видно несоответствие данных в колонках Power и RegistrationYear \\\n",
    "Возьмем срез по данным для колонки RegistrationYear"
   ]
  },
  {
   "cell_type": "code",
   "execution_count": 4,
   "metadata": {},
   "outputs": [
    {
     "data": {
      "text/plain": [
       "<matplotlib.axes._subplots.AxesSubplot at 0x7f32b045c050>"
      ]
     },
     "execution_count": 4,
     "metadata": {},
     "output_type": "execute_result"
    },
    {
     "data": {
      "image/png": "[encoded data removed]",
      "text/plain": [
       "<Figure size 864x360 with 1 Axes>"
      ]
     },
     "metadata": {
      "needs_background": "light"
     },
     "output_type": "display_data"
    }
   ],
   "source": [
    "fig = plt.figure(figsize = (12,5))\n",
    "ax = fig.gca()\n",
    "df[(df[\"RegistrationYear\"] > 1900) & (df[\"RegistrationYear\"] < 2050)][\"RegistrationYear\"].hist(ax = ax, bins=100)"
   ]
  },
  {
   "cell_type": "markdown",
   "metadata": {},
   "source": [
    "Видим, что в основном набор данных находится начиная с 1960 года. \\\n",
    "Возьмем аналогично для колонки Power \\"
   ]
  },
  {
   "cell_type": "code",
   "execution_count": 5,
   "metadata": {},
   "outputs": [
    {
     "data": {
      "text/plain": [
       "<matplotlib.axes._subplots.AxesSubplot at 0x7f32b07de0d0>"
      ]
     },
     "execution_count": 5,
     "metadata": {},
     "output_type": "execute_result"
    },
    {
     "data": {
      "image/png": "[encoded data removed]",
      "text/plain": [
       "<Figure size 864x360 with 1 Axes>"
      ]
     },
     "metadata": {
      "needs_background": "light"
     },
     "output_type": "display_data"
    }
   ],
   "source": [
    "fig = plt.figure(figsize = (12,5))\n",
    "ax = fig.gca()\n",
    "df[(df[\"Power\"] > 0) & (df[\"Power\"] < 1000)][\"Power\"].hist(ax = ax, bins=100)"
   ]
  },
  {
   "cell_type": "markdown",
   "metadata": {},
   "source": [
    "Видим, что в основном значения лежат в разрезе от 0 до 500."
   ]
  },
  {
   "cell_type": "code",
   "execution_count": 6,
   "metadata": {},
   "outputs": [
    {
     "data": {
      "text/plain": [
       "<matplotlib.axes._subplots.AxesSubplot at 0x7f32b07c1a90>"
      ]
     },
     "execution_count": 6,
     "metadata": {},
     "output_type": "execute_result"
    },
    {
     "data": {
      "image/png": "[encoded data removed]",
      "text/plain": [
       "<Figure size 864x360 with 1 Axes>"
      ]
     },
     "metadata": {
      "needs_background": "light"
     },
     "output_type": "display_data"
    }
   ],
   "source": [
    "fig = plt.figure(figsize = (12,5))\n",
    "ax = fig.gca()\n",
    "df[\"Price\"].hist(ax = ax, bins=50)"
   ]
  },
  {
   "cell_type": "markdown",
   "metadata": {},
   "source": [
    "Срежем колонки, которые по логике не помогут нам в построении точных моделей \\\n",
    "DateCrawled - Дата сбора информации не влияет на качество модели\\\n",
    "NumberOfPictures - Нулевые значения во всех строках\\\n",
    "RegistrationMonth - Незначительные данные\\\n",
    "PostalCode - Колонка не влияющая на цену\\\n",
    "LastSeen - Колонка не влияющая на цену"
   ]
  },
  {
   "cell_type": "code",
   "execution_count": 7,
   "metadata": {},
   "outputs": [],
   "source": [
    "df = df.ix[:,'Price':'NotRepaired'].drop(columns=['RegistrationMonth'])"
   ]
  },
  {
   "cell_type": "markdown",
   "metadata": {},
   "source": [
    "Ограничим крайние значения в датафрейме, возьмем год начиная с 1960, Power с 30 до 500"
   ]
  },
  {
   "cell_type": "code",
   "execution_count": 8,
   "metadata": {
    "scrolled": true
   },
   "outputs": [
    {
     "data": {
      "text/html": [
       "<div>\n",
       "<style scoped>\n",
       "    .dataframe tbody tr th:only-of-type {\n",
       "        vertical-align: middle;\n",
       "    }\n",
       "\n",
       "    .dataframe tbody tr th {\n",
       "        vertical-align: top;\n",
       "    }\n",
       "\n",
       "    .dataframe thead th {\n",
       "        text-align: right;\n",
       "    }\n",
       "</style>\n",
       "<table border=\"1\" class=\"dataframe\">\n",
       "  <thead>\n",
       "    <tr style=\"text-align: right;\">\n",
       "      <th></th>\n",
       "      <th>count</th>\n",
       "      <th>mean</th>\n",
       "      <th>std</th>\n",
       "      <th>min</th>\n",
       "      <th>25%</th>\n",
       "      <th>50%</th>\n",
       "      <th>75%</th>\n",
       "      <th>max</th>\n",
       "    </tr>\n",
       "  </thead>\n",
       "  <tbody>\n",
       "    <tr>\n",
       "      <td>Price</td>\n",
       "      <td>304758.0</td>\n",
       "      <td>4823.844171</td>\n",
       "      <td>4583.344361</td>\n",
       "      <td>55.0</td>\n",
       "      <td>1350.0</td>\n",
       "      <td>3150.0</td>\n",
       "      <td>6950.0</td>\n",
       "      <td>20000.0</td>\n",
       "    </tr>\n",
       "    <tr>\n",
       "      <td>RegistrationYear</td>\n",
       "      <td>304758.0</td>\n",
       "      <td>2003.377378</td>\n",
       "      <td>6.745616</td>\n",
       "      <td>1961.0</td>\n",
       "      <td>1999.0</td>\n",
       "      <td>2003.0</td>\n",
       "      <td>2008.0</td>\n",
       "      <td>2019.0</td>\n",
       "    </tr>\n",
       "    <tr>\n",
       "      <td>Power</td>\n",
       "      <td>304758.0</td>\n",
       "      <td>120.395652</td>\n",
       "      <td>53.051294</td>\n",
       "      <td>31.0</td>\n",
       "      <td>75.0</td>\n",
       "      <td>110.0</td>\n",
       "      <td>150.0</td>\n",
       "      <td>490.0</td>\n",
       "    </tr>\n",
       "    <tr>\n",
       "      <td>Kilometer</td>\n",
       "      <td>304758.0</td>\n",
       "      <td>128645.367800</td>\n",
       "      <td>36458.444138</td>\n",
       "      <td>5000.0</td>\n",
       "      <td>125000.0</td>\n",
       "      <td>150000.0</td>\n",
       "      <td>150000.0</td>\n",
       "      <td>150000.0</td>\n",
       "    </tr>\n",
       "  </tbody>\n",
       "</table>\n",
       "</div>"
      ],
      "text/plain": [
       "                     count           mean           std     min       25%  \\\n",
       "Price             304758.0    4823.844171   4583.344361    55.0    1350.0   \n",
       "RegistrationYear  304758.0    2003.377378      6.745616  1961.0    1999.0   \n",
       "Power             304758.0     120.395652     53.051294    31.0      75.0   \n",
       "Kilometer         304758.0  128645.367800  36458.444138  5000.0  125000.0   \n",
       "\n",
       "                       50%       75%       max  \n",
       "Price               3150.0    6950.0   20000.0  \n",
       "RegistrationYear    2003.0    2008.0    2019.0  \n",
       "Power                110.0     150.0     490.0  \n",
       "Kilometer         150000.0  150000.0  150000.0  "
      ]
     },
     "metadata": {},
     "output_type": "display_data"
    },
    {
     "name": "stdout",
     "output_type": "stream",
     "text": [
      "<class 'pandas.core.frame.DataFrame'>\n",
      "Int64Index: 304758 entries, 1 to 354368\n",
      "Data columns (total 10 columns):\n",
      "Price               304758 non-null int64\n",
      "VehicleType         283781 non-null object\n",
      "RegistrationYear    304758 non-null int64\n",
      "Gearbox             298876 non-null object\n",
      "Power               304758 non-null int64\n",
      "Model               292763 non-null object\n",
      "Kilometer           304758 non-null int64\n",
      "FuelType            285392 non-null object\n",
      "Brand               304758 non-null object\n",
      "NotRepaired         258358 non-null object\n",
      "dtypes: int64(4), object(6)\n",
      "memory usage: 25.6+ MB\n"
     ]
    },
    {
     "data": {
      "text/plain": [
       "None"
      ]
     },
     "metadata": {},
     "output_type": "display_data"
    }
   ],
   "source": [
    "df = df.query('RegistrationYear > 1960 and RegistrationYear < 2020 and Power < 500 and Power > 30  and Price > 50')\n",
    "display(df.describe().T)\n",
    "display(df.info())"
   ]
  },
  {
   "cell_type": "markdown",
   "metadata": {},
   "source": [
    "Удалим оставшиеся нулевые данные, т.к. иначе нам не удастся построить модель."
   ]
  },
  {
   "cell_type": "code",
   "execution_count": 9,
   "metadata": {
    "scrolled": true
   },
   "outputs": [
    {
     "data": {
      "text/html": [
       "<div>\n",
       "<style scoped>\n",
       "    .dataframe tbody tr th:only-of-type {\n",
       "        vertical-align: middle;\n",
       "    }\n",
       "\n",
       "    .dataframe tbody tr th {\n",
       "        vertical-align: top;\n",
       "    }\n",
       "\n",
       "    .dataframe thead th {\n",
       "        text-align: right;\n",
       "    }\n",
       "</style>\n",
       "<table border=\"1\" class=\"dataframe\">\n",
       "  <thead>\n",
       "    <tr style=\"text-align: right;\">\n",
       "      <th></th>\n",
       "      <th>Price</th>\n",
       "      <th>VehicleType</th>\n",
       "      <th>RegistrationYear</th>\n",
       "      <th>Gearbox</th>\n",
       "      <th>Power</th>\n",
       "      <th>Model</th>\n",
       "      <th>Kilometer</th>\n",
       "      <th>FuelType</th>\n",
       "      <th>Brand</th>\n",
       "      <th>NotRepaired</th>\n",
       "    </tr>\n",
       "  </thead>\n",
       "  <tbody>\n",
       "    <tr>\n",
       "      <td>0</td>\n",
       "      <td>1500</td>\n",
       "      <td>small</td>\n",
       "      <td>2001</td>\n",
       "      <td>manual</td>\n",
       "      <td>75</td>\n",
       "      <td>golf</td>\n",
       "      <td>150000</td>\n",
       "      <td>petrol</td>\n",
       "      <td>volkswagen</td>\n",
       "      <td>no</td>\n",
       "    </tr>\n",
       "    <tr>\n",
       "      <td>1</td>\n",
       "      <td>3600</td>\n",
       "      <td>small</td>\n",
       "      <td>2008</td>\n",
       "      <td>manual</td>\n",
       "      <td>69</td>\n",
       "      <td>fabia</td>\n",
       "      <td>90000</td>\n",
       "      <td>gasoline</td>\n",
       "      <td>skoda</td>\n",
       "      <td>no</td>\n",
       "    </tr>\n",
       "    <tr>\n",
       "      <td>2</td>\n",
       "      <td>650</td>\n",
       "      <td>sedan</td>\n",
       "      <td>1995</td>\n",
       "      <td>manual</td>\n",
       "      <td>102</td>\n",
       "      <td>3er</td>\n",
       "      <td>150000</td>\n",
       "      <td>petrol</td>\n",
       "      <td>bmw</td>\n",
       "      <td>yes</td>\n",
       "    </tr>\n",
       "    <tr>\n",
       "      <td>3</td>\n",
       "      <td>2200</td>\n",
       "      <td>convertible</td>\n",
       "      <td>2004</td>\n",
       "      <td>manual</td>\n",
       "      <td>109</td>\n",
       "      <td>2_reihe</td>\n",
       "      <td>150000</td>\n",
       "      <td>petrol</td>\n",
       "      <td>peugeot</td>\n",
       "      <td>no</td>\n",
       "    </tr>\n",
       "    <tr>\n",
       "      <td>4</td>\n",
       "      <td>2000</td>\n",
       "      <td>sedan</td>\n",
       "      <td>2004</td>\n",
       "      <td>manual</td>\n",
       "      <td>105</td>\n",
       "      <td>3_reihe</td>\n",
       "      <td>150000</td>\n",
       "      <td>petrol</td>\n",
       "      <td>mazda</td>\n",
       "      <td>no</td>\n",
       "    </tr>\n",
       "    <tr>\n",
       "      <td>...</td>\n",
       "      <td>...</td>\n",
       "      <td>...</td>\n",
       "      <td>...</td>\n",
       "      <td>...</td>\n",
       "      <td>...</td>\n",
       "      <td>...</td>\n",
       "      <td>...</td>\n",
       "      <td>...</td>\n",
       "      <td>...</td>\n",
       "      <td>...</td>\n",
       "    </tr>\n",
       "    <tr>\n",
       "      <td>232222</td>\n",
       "      <td>1490</td>\n",
       "      <td>small</td>\n",
       "      <td>1998</td>\n",
       "      <td>manual</td>\n",
       "      <td>50</td>\n",
       "      <td>lupo</td>\n",
       "      <td>150000</td>\n",
       "      <td>petrol</td>\n",
       "      <td>volkswagen</td>\n",
       "      <td>no</td>\n",
       "    </tr>\n",
       "    <tr>\n",
       "      <td>232223</td>\n",
       "      <td>7900</td>\n",
       "      <td>sedan</td>\n",
       "      <td>2010</td>\n",
       "      <td>manual</td>\n",
       "      <td>140</td>\n",
       "      <td>golf</td>\n",
       "      <td>150000</td>\n",
       "      <td>gasoline</td>\n",
       "      <td>volkswagen</td>\n",
       "      <td>no</td>\n",
       "    </tr>\n",
       "    <tr>\n",
       "      <td>232224</td>\n",
       "      <td>3200</td>\n",
       "      <td>sedan</td>\n",
       "      <td>2004</td>\n",
       "      <td>manual</td>\n",
       "      <td>225</td>\n",
       "      <td>leon</td>\n",
       "      <td>150000</td>\n",
       "      <td>petrol</td>\n",
       "      <td>seat</td>\n",
       "      <td>yes</td>\n",
       "    </tr>\n",
       "    <tr>\n",
       "      <td>232225</td>\n",
       "      <td>1199</td>\n",
       "      <td>convertible</td>\n",
       "      <td>2000</td>\n",
       "      <td>auto</td>\n",
       "      <td>101</td>\n",
       "      <td>fortwo</td>\n",
       "      <td>125000</td>\n",
       "      <td>petrol</td>\n",
       "      <td>smart</td>\n",
       "      <td>no</td>\n",
       "    </tr>\n",
       "    <tr>\n",
       "      <td>232226</td>\n",
       "      <td>9200</td>\n",
       "      <td>bus</td>\n",
       "      <td>1996</td>\n",
       "      <td>manual</td>\n",
       "      <td>102</td>\n",
       "      <td>transporter</td>\n",
       "      <td>150000</td>\n",
       "      <td>gasoline</td>\n",
       "      <td>volkswagen</td>\n",
       "      <td>no</td>\n",
       "    </tr>\n",
       "  </tbody>\n",
       "</table>\n",
       "<p>232227 rows × 10 columns</p>\n",
       "</div>"
      ],
      "text/plain": [
       "        Price  VehicleType  RegistrationYear Gearbox  Power        Model  \\\n",
       "0        1500        small              2001  manual     75         golf   \n",
       "1        3600        small              2008  manual     69        fabia   \n",
       "2         650        sedan              1995  manual    102          3er   \n",
       "3        2200  convertible              2004  manual    109      2_reihe   \n",
       "4        2000        sedan              2004  manual    105      3_reihe   \n",
       "...       ...          ...               ...     ...    ...          ...   \n",
       "232222   1490        small              1998  manual     50         lupo   \n",
       "232223   7900        sedan              2010  manual    140         golf   \n",
       "232224   3200        sedan              2004  manual    225         leon   \n",
       "232225   1199  convertible              2000    auto    101       fortwo   \n",
       "232226   9200          bus              1996  manual    102  transporter   \n",
       "\n",
       "        Kilometer  FuelType       Brand NotRepaired  \n",
       "0          150000    petrol  volkswagen          no  \n",
       "1           90000  gasoline       skoda          no  \n",
       "2          150000    petrol         bmw         yes  \n",
       "3          150000    petrol     peugeot          no  \n",
       "4          150000    petrol       mazda          no  \n",
       "...           ...       ...         ...         ...  \n",
       "232222     150000    petrol  volkswagen          no  \n",
       "232223     150000  gasoline  volkswagen          no  \n",
       "232224     150000    petrol        seat         yes  \n",
       "232225     125000    petrol       smart          no  \n",
       "232226     150000  gasoline  volkswagen          no  \n",
       "\n",
       "[232227 rows x 10 columns]"
      ]
     },
     "execution_count": 9,
     "metadata": {},
     "output_type": "execute_result"
    }
   ],
   "source": [
    "df = df.dropna().reset_index(drop=True)\n",
    "df"
   ]
  },
  {
   "cell_type": "markdown",
   "metadata": {},
   "source": [
    "Проверим, все ли хорошо с нашими данными"
   ]
  },
  {
   "cell_type": "code",
   "execution_count": 10,
   "metadata": {
    "scrolled": true
   },
   "outputs": [
    {
     "data": {
      "text/html": [
       "<div>\n",
       "<style scoped>\n",
       "    .dataframe tbody tr th:only-of-type {\n",
       "        vertical-align: middle;\n",
       "    }\n",
       "\n",
       "    .dataframe tbody tr th {\n",
       "        vertical-align: top;\n",
       "    }\n",
       "\n",
       "    .dataframe thead th {\n",
       "        text-align: right;\n",
       "    }\n",
       "</style>\n",
       "<table border=\"1\" class=\"dataframe\">\n",
       "  <thead>\n",
       "    <tr style=\"text-align: right;\">\n",
       "      <th></th>\n",
       "      <th>count</th>\n",
       "      <th>mean</th>\n",
       "      <th>std</th>\n",
       "      <th>min</th>\n",
       "      <th>25%</th>\n",
       "      <th>50%</th>\n",
       "      <th>75%</th>\n",
       "      <th>max</th>\n",
       "    </tr>\n",
       "  </thead>\n",
       "  <tbody>\n",
       "    <tr>\n",
       "      <td>Price</td>\n",
       "      <td>232227.0</td>\n",
       "      <td>5298.835243</td>\n",
       "      <td>4726.115588</td>\n",
       "      <td>55.0</td>\n",
       "      <td>1590.0</td>\n",
       "      <td>3699.0</td>\n",
       "      <td>7750.0</td>\n",
       "      <td>20000.0</td>\n",
       "    </tr>\n",
       "    <tr>\n",
       "      <td>RegistrationYear</td>\n",
       "      <td>232227.0</td>\n",
       "      <td>2003.140513</td>\n",
       "      <td>5.949206</td>\n",
       "      <td>1961.0</td>\n",
       "      <td>1999.0</td>\n",
       "      <td>2004.0</td>\n",
       "      <td>2007.0</td>\n",
       "      <td>2018.0</td>\n",
       "    </tr>\n",
       "    <tr>\n",
       "      <td>Power</td>\n",
       "      <td>232227.0</td>\n",
       "      <td>123.032063</td>\n",
       "      <td>53.085674</td>\n",
       "      <td>31.0</td>\n",
       "      <td>82.0</td>\n",
       "      <td>116.0</td>\n",
       "      <td>150.0</td>\n",
       "      <td>490.0</td>\n",
       "    </tr>\n",
       "    <tr>\n",
       "      <td>Kilometer</td>\n",
       "      <td>232227.0</td>\n",
       "      <td>127128.197841</td>\n",
       "      <td>36950.371647</td>\n",
       "      <td>5000.0</td>\n",
       "      <td>125000.0</td>\n",
       "      <td>150000.0</td>\n",
       "      <td>150000.0</td>\n",
       "      <td>150000.0</td>\n",
       "    </tr>\n",
       "  </tbody>\n",
       "</table>\n",
       "</div>"
      ],
      "text/plain": [
       "                     count           mean           std     min       25%  \\\n",
       "Price             232227.0    5298.835243   4726.115588    55.0    1590.0   \n",
       "RegistrationYear  232227.0    2003.140513      5.949206  1961.0    1999.0   \n",
       "Power             232227.0     123.032063     53.085674    31.0      82.0   \n",
       "Kilometer         232227.0  127128.197841  36950.371647  5000.0  125000.0   \n",
       "\n",
       "                       50%       75%       max  \n",
       "Price               3699.0    7750.0   20000.0  \n",
       "RegistrationYear    2004.0    2007.0    2018.0  \n",
       "Power                116.0     150.0     490.0  \n",
       "Kilometer         150000.0  150000.0  150000.0  "
      ]
     },
     "metadata": {},
     "output_type": "display_data"
    },
    {
     "name": "stdout",
     "output_type": "stream",
     "text": [
      "<class 'pandas.core.frame.DataFrame'>\n",
      "RangeIndex: 232227 entries, 0 to 232226\n",
      "Data columns (total 10 columns):\n",
      "Price               232227 non-null int64\n",
      "VehicleType         232227 non-null object\n",
      "RegistrationYear    232227 non-null int64\n",
      "Gearbox             232227 non-null object\n",
      "Power               232227 non-null int64\n",
      "Model               232227 non-null object\n",
      "Kilometer           232227 non-null int64\n",
      "FuelType            232227 non-null object\n",
      "Brand               232227 non-null object\n",
      "NotRepaired         232227 non-null object\n",
      "dtypes: int64(4), object(6)\n",
      "memory usage: 17.7+ MB\n"
     ]
    },
    {
     "data": {
      "text/plain": [
       "None"
      ]
     },
     "metadata": {},
     "output_type": "display_data"
    }
   ],
   "source": [
    "display(df.describe().T)\n",
    "display(df.info())"
   ]
  },
  {
   "cell_type": "markdown",
   "metadata": {},
   "source": [
    "Обратим внимание на подозрительные значения колонки Kilometer. Выведем уникальные значения колонки"
   ]
  },
  {
   "cell_type": "code",
   "execution_count": 11,
   "metadata": {},
   "outputs": [
    {
     "data": {
      "text/plain": [
       "array([150000,  90000,  70000, 100000,  60000,   5000,  20000, 125000,\n",
       "        80000,  50000,  40000,  10000,  30000])"
      ]
     },
     "execution_count": 11,
     "metadata": {},
     "output_type": "execute_result"
    }
   ],
   "source": [
    "df[\"Kilometer\"].unique()"
   ]
  },
  {
   "cell_type": "markdown",
   "metadata": {},
   "source": [
    "Т.к. в колонке лежат уникальные значения можем считать, что колонка категориальная."
   ]
  },
  {
   "cell_type": "markdown",
   "metadata": {},
   "source": [
    "Все вроде бы ок, однако категориальные значения необходимо заменить на численные. \\\n",
    "Воспользуемся LabelEncoder для преобразования"
   ]
  },
  {
   "cell_type": "code",
   "execution_count": 12,
   "metadata": {},
   "outputs": [
    {
     "data": {
      "text/html": [
       "<div>\n",
       "<style scoped>\n",
       "    .dataframe tbody tr th:only-of-type {\n",
       "        vertical-align: middle;\n",
       "    }\n",
       "\n",
       "    .dataframe tbody tr th {\n",
       "        vertical-align: top;\n",
       "    }\n",
       "\n",
       "    .dataframe thead th {\n",
       "        text-align: right;\n",
       "    }\n",
       "</style>\n",
       "<table border=\"1\" class=\"dataframe\">\n",
       "  <thead>\n",
       "    <tr style=\"text-align: right;\">\n",
       "      <th></th>\n",
       "      <th>Price</th>\n",
       "      <th>VehicleType</th>\n",
       "      <th>RegistrationYear</th>\n",
       "      <th>Gearbox</th>\n",
       "      <th>Power</th>\n",
       "      <th>Model</th>\n",
       "      <th>Kilometer</th>\n",
       "      <th>FuelType</th>\n",
       "      <th>Brand</th>\n",
       "      <th>NotRepaired</th>\n",
       "    </tr>\n",
       "  </thead>\n",
       "  <tbody>\n",
       "    <tr>\n",
       "      <td>0</td>\n",
       "      <td>1500</td>\n",
       "      <td>5</td>\n",
       "      <td>2001</td>\n",
       "      <td>1</td>\n",
       "      <td>75</td>\n",
       "      <td>116</td>\n",
       "      <td>12</td>\n",
       "      <td>6</td>\n",
       "      <td>37</td>\n",
       "      <td>0</td>\n",
       "    </tr>\n",
       "    <tr>\n",
       "      <td>1</td>\n",
       "      <td>3600</td>\n",
       "      <td>5</td>\n",
       "      <td>2008</td>\n",
       "      <td>1</td>\n",
       "      <td>69</td>\n",
       "      <td>101</td>\n",
       "      <td>9</td>\n",
       "      <td>2</td>\n",
       "      <td>31</td>\n",
       "      <td>0</td>\n",
       "    </tr>\n",
       "    <tr>\n",
       "      <td>2</td>\n",
       "      <td>650</td>\n",
       "      <td>4</td>\n",
       "      <td>1995</td>\n",
       "      <td>1</td>\n",
       "      <td>102</td>\n",
       "      <td>11</td>\n",
       "      <td>12</td>\n",
       "      <td>6</td>\n",
       "      <td>2</td>\n",
       "      <td>1</td>\n",
       "    </tr>\n",
       "    <tr>\n",
       "      <td>3</td>\n",
       "      <td>2200</td>\n",
       "      <td>1</td>\n",
       "      <td>2004</td>\n",
       "      <td>1</td>\n",
       "      <td>109</td>\n",
       "      <td>8</td>\n",
       "      <td>12</td>\n",
       "      <td>6</td>\n",
       "      <td>25</td>\n",
       "      <td>0</td>\n",
       "    </tr>\n",
       "    <tr>\n",
       "      <td>4</td>\n",
       "      <td>2000</td>\n",
       "      <td>4</td>\n",
       "      <td>2004</td>\n",
       "      <td>1</td>\n",
       "      <td>105</td>\n",
       "      <td>10</td>\n",
       "      <td>12</td>\n",
       "      <td>6</td>\n",
       "      <td>19</td>\n",
       "      <td>0</td>\n",
       "    </tr>\n",
       "    <tr>\n",
       "      <td>...</td>\n",
       "      <td>...</td>\n",
       "      <td>...</td>\n",
       "      <td>...</td>\n",
       "      <td>...</td>\n",
       "      <td>...</td>\n",
       "      <td>...</td>\n",
       "      <td>...</td>\n",
       "      <td>...</td>\n",
       "      <td>...</td>\n",
       "      <td>...</td>\n",
       "    </tr>\n",
       "    <tr>\n",
       "      <td>232222</td>\n",
       "      <td>1490</td>\n",
       "      <td>5</td>\n",
       "      <td>1998</td>\n",
       "      <td>1</td>\n",
       "      <td>50</td>\n",
       "      <td>143</td>\n",
       "      <td>12</td>\n",
       "      <td>6</td>\n",
       "      <td>37</td>\n",
       "      <td>0</td>\n",
       "    </tr>\n",
       "    <tr>\n",
       "      <td>232223</td>\n",
       "      <td>7900</td>\n",
       "      <td>4</td>\n",
       "      <td>2010</td>\n",
       "      <td>1</td>\n",
       "      <td>140</td>\n",
       "      <td>116</td>\n",
       "      <td>12</td>\n",
       "      <td>2</td>\n",
       "      <td>37</td>\n",
       "      <td>0</td>\n",
       "    </tr>\n",
       "    <tr>\n",
       "      <td>232224</td>\n",
       "      <td>3200</td>\n",
       "      <td>4</td>\n",
       "      <td>2004</td>\n",
       "      <td>1</td>\n",
       "      <td>225</td>\n",
       "      <td>140</td>\n",
       "      <td>12</td>\n",
       "      <td>6</td>\n",
       "      <td>30</td>\n",
       "      <td>1</td>\n",
       "    </tr>\n",
       "    <tr>\n",
       "      <td>232225</td>\n",
       "      <td>1199</td>\n",
       "      <td>1</td>\n",
       "      <td>2000</td>\n",
       "      <td>0</td>\n",
       "      <td>101</td>\n",
       "      <td>106</td>\n",
       "      <td>11</td>\n",
       "      <td>6</td>\n",
       "      <td>32</td>\n",
       "      <td>0</td>\n",
       "    </tr>\n",
       "    <tr>\n",
       "      <td>232226</td>\n",
       "      <td>9200</td>\n",
       "      <td>0</td>\n",
       "      <td>1996</td>\n",
       "      <td>1</td>\n",
       "      <td>102</td>\n",
       "      <td>223</td>\n",
       "      <td>12</td>\n",
       "      <td>2</td>\n",
       "      <td>37</td>\n",
       "      <td>0</td>\n",
       "    </tr>\n",
       "  </tbody>\n",
       "</table>\n",
       "<p>232227 rows × 10 columns</p>\n",
       "</div>"
      ],
      "text/plain": [
       "        Price  VehicleType  RegistrationYear  Gearbox  Power  Model  \\\n",
       "0        1500            5              2001        1     75    116   \n",
       "1        3600            5              2008        1     69    101   \n",
       "2         650            4              1995        1    102     11   \n",
       "3        2200            1              2004        1    109      8   \n",
       "4        2000            4              2004        1    105     10   \n",
       "...       ...          ...               ...      ...    ...    ...   \n",
       "232222   1490            5              1998        1     50    143   \n",
       "232223   7900            4              2010        1    140    116   \n",
       "232224   3200            4              2004        1    225    140   \n",
       "232225   1199            1              2000        0    101    106   \n",
       "232226   9200            0              1996        1    102    223   \n",
       "\n",
       "        Kilometer  FuelType  Brand  NotRepaired  \n",
       "0              12         6     37            0  \n",
       "1               9         2     31            0  \n",
       "2              12         6      2            1  \n",
       "3              12         6     25            0  \n",
       "4              12         6     19            0  \n",
       "...           ...       ...    ...          ...  \n",
       "232222         12         6     37            0  \n",
       "232223         12         2     37            0  \n",
       "232224         12         6     30            1  \n",
       "232225         11         6     32            0  \n",
       "232226         12         2     37            0  \n",
       "\n",
       "[232227 rows x 10 columns]"
      ]
     },
     "execution_count": 12,
     "metadata": {},
     "output_type": "execute_result"
    }
   ],
   "source": [
    "categorical_features = [\"VehicleType\",\"Gearbox\", \"Model\", \"Kilometer\", \"FuelType\", \"Brand\", \"NotRepaired\"]\n",
    "le = LabelEncoder()\n",
    "df[categorical_features] = df[categorical_features].apply(lambda col: le.fit_transform(col))\n",
    "df"
   ]
  },
  {
   "cell_type": "markdown",
   "metadata": {},
   "source": [
    "Все отлично, можно двигаться к обучению моделей."
   ]
  },
  {
   "cell_type": "markdown",
   "metadata": {},
   "source": [
    "# 2. Обучение моделей"
   ]
  },
  {
   "cell_type": "markdown",
   "metadata": {},
   "source": [
    "Разделим выборку на тренировочную, тестовую и финальную и выделим целевой признак Price"
   ]
  },
  {
   "cell_type": "code",
   "execution_count": 13,
   "metadata": {},
   "outputs": [],
   "source": [
    "target = df[\"Price\"]\n",
    "features = df.drop('Price', axis=1)\n",
    "\n",
    "features_train, features_test, target_train, target_test = train_test_split(features, \n",
    "                                                                              target, \n",
    "                                                                              test_size=0.4, \n",
    "                                                                              random_state = 12345)\n",
    "\n",
    "features_final, features_test, target_final, target_test = train_test_split(features_test, \n",
    "                                                                              target_test, \n",
    "                                                                              test_size=0.5, \n",
    "                                                                              random_state = 12345)"
   ]
  },
  {
   "cell_type": "markdown",
   "metadata": {},
   "source": [
    "Выделим функцию отображения rmse для полученных предсказаний."
   ]
  },
  {
   "cell_type": "code",
   "execution_count": 14,
   "metadata": {},
   "outputs": [],
   "source": [
    "def print_rmse(target_predice, target_test):\n",
    "    print(calculate_rmse(target_predice,target_test))\n",
    "\n",
    "def calculate_rmse(target_predice, target_test):\n",
    "    return mean_squared_error(target_predice,target_test) ** 0.5"
   ]
  },
  {
   "cell_type": "markdown",
   "metadata": {},
   "source": [
    "### DecisionTreeRegressor"
   ]
  },
  {
   "cell_type": "markdown",
   "metadata": {},
   "source": [
    "Для начала попробуем решить задачу с помощью DecisionTreeRegressor.  \n",
    "Т.к. DecisionTreeRegressor выдает результат предсказания довольно быстро подберем такие параметры, которые приведут к наилучшему результату. Воспользуемся для этого GridSearchCV "
   ]
  },
  {
   "cell_type": "code",
   "execution_count": 15,
   "metadata": {},
   "outputs": [
    {
     "name": "stdout",
     "output_type": "stream",
     "text": [
      "Fitting 5 folds for each of 225 candidates, totalling 1125 fits\n"
     ]
    },
    {
     "name": "stderr",
     "output_type": "stream",
     "text": [
      "[Parallel(n_jobs=1)]: Using backend SequentialBackend with 1 concurrent workers.\n",
      "[Parallel(n_jobs=1)]: Done 1125 out of 1125 | elapsed:  5.6min finished\n"
     ]
    },
    {
     "data": {
      "text/plain": [
       "({'max_depth': 26, 'min_samples_split': 30}, -3190480.8314427054)"
      ]
     },
     "execution_count": 15,
     "metadata": {},
     "output_type": "execute_result"
    }
   ],
   "source": [
    "param_grid = {'max_depth': range(2,31,2),\n",
    "              'min_samples_split': range(2,31,2)}\n",
    "\n",
    "clf = GridSearchCV(DecisionTreeRegressor(), \n",
    "                   param_grid,\n",
    "                   scoring='neg_mean_squared_error',\n",
    "                   cv=5 , verbose=1)\n",
    "clf.fit(features_train, target_train) \n",
    "clf.best_params_, clf.best_score_"
   ]
  },
  {
   "cell_type": "markdown",
   "metadata": {},
   "source": [
    "Применим полученные гиперпараметры к модели."
   ]
  },
  {
   "cell_type": "code",
   "execution_count": 16,
   "metadata": {},
   "outputs": [],
   "source": [
    "dt_regressor = DecisionTreeRegressor(random_state = 12345, max_depth = 28, min_samples_split = 30)"
   ]
  },
  {
   "cell_type": "markdown",
   "metadata": {},
   "source": [
    "Вычислим время обучения модели и предсказания"
   ]
  },
  {
   "cell_type": "code",
   "execution_count": 17,
   "metadata": {},
   "outputs": [
    {
     "name": "stdout",
     "output_type": "stream",
     "text": [
      "CPU times: user 448 ms, sys: 0 ns, total: 448 ms\n",
      "Wall time: 457 ms\n"
     ]
    },
    {
     "data": {
      "text/plain": [
       "DecisionTreeRegressor(criterion='mse', max_depth=28, max_features=None,\n",
       "                      max_leaf_nodes=None, min_impurity_decrease=0.0,\n",
       "                      min_impurity_split=None, min_samples_leaf=1,\n",
       "                      min_samples_split=30, min_weight_fraction_leaf=0.0,\n",
       "                      presort=False, random_state=12345, splitter='best')"
      ]
     },
     "execution_count": 17,
     "metadata": {},
     "output_type": "execute_result"
    }
   ],
   "source": [
    "%%time\n",
    "dt_regressor.fit(features_train, target_train)"
   ]
  },
  {
   "cell_type": "code",
   "execution_count": 18,
   "metadata": {},
   "outputs": [
    {
     "name": "stdout",
     "output_type": "stream",
     "text": [
      "1787.5725774452278\n",
      "CPU times: user 20 ms, sys: 0 ns, total: 20 ms\n",
      "Wall time: 28.5 ms\n"
     ]
    }
   ],
   "source": [
    "%%time\n",
    "y_pred_dt = dt_regressor.predict(features_test)\n",
    "print_rmse(y_pred_dt, target_test)"
   ]
  },
  {
   "cell_type": "markdown",
   "metadata": {},
   "source": [
    "Получим хорошую скорость предсказания модели и удовлетворительный rmse"
   ]
  },
  {
   "cell_type": "markdown",
   "metadata": {},
   "source": [
    "### LightBM"
   ]
  },
  {
   "cell_type": "markdown",
   "metadata": {},
   "source": [
    "Выделим метод генерации дерева lightgbm. \\\n",
    "Передадим методу три параметра: max_bin, learning_rate, num_boost_round и вернем сгенерированное дерево."
   ]
  },
  {
   "cell_type": "code",
   "execution_count": 19,
   "metadata": {},
   "outputs": [],
   "source": [
    "def generate_lgbm(max_bin, learning_rate, num_boost_round):\n",
    "    train_data = lightgbm.Dataset(features_train, label=target_train, categorical_feature=categorical_features)\n",
    "    test_data = lightgbm.Dataset(features_test, label=target_test, categorical_feature=categorical_features)\n",
    "    parameters = {\n",
    "        'application': 'regression',\n",
    "        'metric': 'rmse',\n",
    "        'boosting': 'gbdt',\n",
    "        'z': max_bin,\n",
    "        'learning_rate': learning_rate\n",
    "    }\n",
    "    model = lightgbm.train(parameters,\n",
    "                           train_data,\n",
    "                           num_boost_round=num_boost_round)\n",
    "    return model\n"
   ]
  },
  {
   "cell_type": "markdown",
   "metadata": {},
   "source": [
    "Воспользуемся подсказкой по тюнингу гиперпараметров с сайта посвященному lightgbm  (https://lightgbm.readthedocs.io/en/latest/Parameters-Tuning.html) и подготовим три разные модели. \\\n",
    "Для первой постараемся подобрать гиперпараметры таким образом, чтобы она максимально быстро выдавала правильный ответ. \\\n",
    "Для второй подбираем параметры близкие к параметрам по умолчанию, так, чтобы она давай примерно средней по производительности и точности результат.  \n",
    "Для последней постараемся найти гиперпараметры дающие максимально точные значения.\n",
    "\n",
    "Описания гиперпараметров найдем здесь: https://lightgbm.readthedocs.io/en/latest/Parameters.html"
   ]
  },
  {
   "cell_type": "markdown",
   "metadata": {},
   "source": [
    "#### Модель  1 (быстрый результат)"
   ]
  },
  {
   "cell_type": "code",
   "execution_count": 20,
   "metadata": {
    "scrolled": true
   },
   "outputs": [
    {
     "name": "stdout",
     "output_type": "stream",
     "text": [
      "CPU times: user 10.6 s, sys: 116 ms, total: 10.7 s\n",
      "Wall time: 10.9 s\n"
     ]
    }
   ],
   "source": [
    "%%time\n",
    "model1 = generate_lgbm(150, 0.3, 300) "
   ]
  },
  {
   "cell_type": "code",
   "execution_count": 21,
   "metadata": {},
   "outputs": [
    {
     "name": "stdout",
     "output_type": "stream",
     "text": [
      "1523.9982096976312\n",
      "CPU times: user 1.41 s, sys: 0 ns, total: 1.41 s\n",
      "Wall time: 1.4 s\n"
     ]
    }
   ],
   "source": [
    "%%time\n",
    "print_rmse(model1.predict(features_test), target_test)"
   ]
  },
  {
   "cell_type": "markdown",
   "metadata": {},
   "source": [
    "#### Модель 2 (сбалансированная)"
   ]
  },
  {
   "cell_type": "code",
   "execution_count": 22,
   "metadata": {},
   "outputs": [
    {
     "name": "stdout",
     "output_type": "stream",
     "text": [
      "CPU times: user 47.2 s, sys: 420 ms, total: 47.7 s\n",
      "Wall time: 48.3 s\n"
     ]
    }
   ],
   "source": [
    "%%time\n",
    "model2 = generate_lgbm(255, 0.1, 1500)"
   ]
  },
  {
   "cell_type": "code",
   "execution_count": 23,
   "metadata": {},
   "outputs": [
    {
     "name": "stdout",
     "output_type": "stream",
     "text": [
      "1494.7940433903007\n",
      "CPU times: user 8.79 s, sys: 0 ns, total: 8.79 s\n",
      "Wall time: 8.98 s\n"
     ]
    }
   ],
   "source": [
    "%%time\n",
    "print_rmse(model2.predict(features_test), target_test)"
   ]
  },
  {
   "cell_type": "markdown",
   "metadata": {},
   "source": [
    "#### Модель 3 (высокая точность)"
   ]
  },
  {
   "cell_type": "code",
   "execution_count": 24,
   "metadata": {},
   "outputs": [
    {
     "name": "stdout",
     "output_type": "stream",
     "text": [
      "CPU times: user 1min 20s, sys: 668 ms, total: 1min 21s\n",
      "Wall time: 1min 22s\n"
     ]
    }
   ],
   "source": [
    "%%time\n",
    "model3 = generate_lgbm(400, 0.05, 2500)"
   ]
  },
  {
   "cell_type": "code",
   "execution_count": 25,
   "metadata": {},
   "outputs": [
    {
     "name": "stdout",
     "output_type": "stream",
     "text": [
      "1492.075935646243\n",
      "CPU times: user 16.3 s, sys: 16 ms, total: 16.3 s\n",
      "Wall time: 16.3 s\n"
     ]
    }
   ],
   "source": [
    "%%time\n",
    "print_rmse(model3.predict(features_test), target_test)"
   ]
  },
  {
   "cell_type": "markdown",
   "metadata": {},
   "source": [
    "# 3. Анализ моделей"
   ]
  },
  {
   "cell_type": "markdown",
   "metadata": {},
   "source": [
    "Как и ожидалось, первая модель хоть и показывает самую высокую оценку rmse, зато производит расчет крайне быстро. Обученную таким образом модель можно использовать для динамического прогнозирования цены пользователю, например, на специализированных сайтах или в мобильном приложении."
   ]
  },
  {
   "cell_type": "markdown",
   "metadata": {},
   "source": [
    "Вторая модель требует немного больше времени для расчетов, но предсказывает точнее (хоть и не столь значительно). Показывать результаты ее работы напрямую пользователю было бы не совсем корректно, неправильно заставлять пользователя ждать даже 10 секунд, однако модель с такой конфигурацией можно было бы применить во внутренних сервисах компании, для оценки стоимости автомобиля, там где не моментальный ответ допустим.\n"
   ]
  },
  {
   "cell_type": "markdown",
   "metadata": {},
   "source": [
    "С третьей моделью мы вероятней всего столкнулись с проблемой переобучения. Rmse  ниже в рамках погрешности, а временные затраты для предсказания слишком велики. Использовать такую модель не представляется рациональным, лучше остановиться на первых двух. "
   ]
  },
  {
   "cell_type": "markdown",
   "metadata": {},
   "source": [
    "Основываясь на богатом наборе гиперпараметров lightgbm мы можем продолжать тестировать разные вариации для получение наилучшего результата. Например можно перебрать параметры num_leaves в сочетании с max_depth."
   ]
  },
  {
   "cell_type": "markdown",
   "metadata": {},
   "source": [
    " #### Сравнения скорости и точности моделей LightBM и DecisionTreeRegressor"
   ]
  },
  {
   "cell_type": "code",
   "execution_count": 27,
   "metadata": {},
   "outputs": [
    {
     "name": "stdout",
     "output_type": "stream",
     "text": [
      "1507.6968849595457\n",
      "1477.1238801631168\n",
      "1730.878001959136\n"
     ]
    }
   ],
   "source": [
    "print_rmse(model1.predict(features_final), target_final)\n",
    "print_rmse(model2.predict(features_final), target_final)\n",
    "print_rmse(dt_regressor.predict(features_final), target_final)"
   ]
  },
  {
   "cell_type": "code",
   "execution_count": 28,
   "metadata": {},
   "outputs": [
    {
     "name": "stdout",
     "output_type": "stream",
     "text": [
      "CPU times: user 1.4 s, sys: 4 ms, total: 1.4 s\n",
      "Wall time: 1.4 s\n"
     ]
    }
   ],
   "source": [
    "%%time\n",
    "model_pred = model1.predict(features_final)"
   ]
  },
  {
   "cell_type": "code",
   "execution_count": 29,
   "metadata": {},
   "outputs": [
    {
     "name": "stdout",
     "output_type": "stream",
     "text": [
      "CPU times: user 8.84 s, sys: 0 ns, total: 8.84 s\n",
      "Wall time: 8.81 s\n"
     ]
    }
   ],
   "source": [
    "%%time\n",
    "model2_pred = model2.predict(features_final)"
   ]
  },
  {
   "cell_type": "code",
   "execution_count": 30,
   "metadata": {},
   "outputs": [
    {
     "name": "stdout",
     "output_type": "stream",
     "text": [
      "CPU times: user 20 ms, sys: 0 ns, total: 20 ms\n",
      "Wall time: 16 ms\n"
     ]
    }
   ],
   "source": [
    "%%time\n",
    "dt_pred = dt_regressor.predict(features_final)"
   ]
  },
  {
   "cell_type": "markdown",
   "metadata": {},
   "source": [
    "|              \t| rmse \t| evaluation time \t|\n",
    "|:------------:\t|:----:\t|:---------------:\t|\n",
    "|    model1    \t| 1507 \t|      1.38 s     \t|\n",
    "|    model2    \t| 1477 \t|      8.6 s      \t|\n",
    "| dt_regressor \t| 1730 \t|     16.5 ms     \t|"
   ]
  },
  {
   "cell_type": "markdown",
   "metadata": {},
   "source": [
    "С использованием lightgbm мы хоть и теряем в производительности модели, однако значительно приобретаем в ее точности. Необходимо отметить, что классические модели проще обучить и настроить, однако в реальной работе по всей видимости рационально использовать lightgbm с его богатством настроек."
   ]
  }
 ],
 "metadata": {
  "kernelspec": {
   "display_name": "Python 3",
   "language": "python",
   "name": "python3"
  },
  "language_info": {
   "codemirror_mode": {
    "name": "ipython",
    "version": 3
   },
   "file_extension": ".py",
   "mimetype": "text/x-python",
   "name": "python",
   "nbconvert_exporter": "python",
   "pygments_lexer": "ipython3",
   "version": "3.7.7"
  }
 },
 "nbformat": 4,
 "nbformat_minor": 4
}
