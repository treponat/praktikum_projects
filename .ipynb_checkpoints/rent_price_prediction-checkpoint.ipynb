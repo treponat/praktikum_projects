{
 "cells": [
  {
   "cell_type": "code",
   "execution_count": 1,
   "metadata": {},
   "outputs": [
    {
     "name": "stdout",
     "output_type": "stream",
     "text": [
      "<class 'pandas.core.frame.DataFrame'>\n",
      "RangeIndex: 23699 entries, 0 to 23698\n",
      "Data columns (total 22 columns):\n",
      "total_images            23699 non-null int64\n",
      "last_price              23699 non-null float64\n",
      "total_area              23699 non-null float64\n",
      "first_day_exposition    23699 non-null object\n",
      "rooms                   23699 non-null int64\n",
      "ceiling_height          14504 non-null float64\n",
      "floors_total            23613 non-null float64\n",
      "living_area             21796 non-null float64\n",
      "floor                   23699 non-null int64\n",
      "is_apartment            2775 non-null object\n",
      "studio                  23699 non-null bool\n",
      "open_plan               23699 non-null bool\n",
      "kitchen_area            21421 non-null float64\n",
      "balcony                 12180 non-null float64\n",
      "locality_name           23650 non-null object\n",
      "airports_nearest        18157 non-null float64\n",
      "cityCenters_nearest     18180 non-null float64\n",
      "parks_around3000        18181 non-null float64\n",
      "parks_nearest           8079 non-null float64\n",
      "ponds_around3000        18181 non-null float64\n",
      "ponds_nearest           9110 non-null float64\n",
      "days_exposition         20518 non-null float64\n",
      "dtypes: bool(2), float64(14), int64(3), object(3)\n",
      "memory usage: 3.7+ MB\n",
      "None\n"
     ]
    },
    {
     "data": {
      "text/html": [
       "<div>\n",
       "<style scoped>\n",
       "    .dataframe tbody tr th:only-of-type {\n",
       "        vertical-align: middle;\n",
       "    }\n",
       "\n",
       "    .dataframe tbody tr th {\n",
       "        vertical-align: top;\n",
       "    }\n",
       "\n",
       "    .dataframe thead th {\n",
       "        text-align: right;\n",
       "    }\n",
       "</style>\n",
       "<table border=\"1\" class=\"dataframe\">\n",
       "  <thead>\n",
       "    <tr style=\"text-align: right;\">\n",
       "      <th></th>\n",
       "      <th>total_images</th>\n",
       "      <th>last_price</th>\n",
       "      <th>total_area</th>\n",
       "      <th>first_day_exposition</th>\n",
       "      <th>rooms</th>\n",
       "      <th>ceiling_height</th>\n",
       "      <th>floors_total</th>\n",
       "      <th>living_area</th>\n",
       "      <th>floor</th>\n",
       "      <th>is_apartment</th>\n",
       "      <th>studio</th>\n",
       "      <th>open_plan</th>\n",
       "      <th>kitchen_area</th>\n",
       "      <th>balcony</th>\n",
       "      <th>locality_name</th>\n",
       "      <th>airports_nearest</th>\n",
       "      <th>cityCenters_nearest</th>\n",
       "      <th>parks_around3000</th>\n",
       "      <th>parks_nearest</th>\n",
       "      <th>ponds_around3000</th>\n",
       "      <th>ponds_nearest</th>\n",
       "      <th>days_exposition</th>\n",
       "    </tr>\n",
       "  </thead>\n",
       "  <tbody>\n",
       "    <tr>\n",
       "      <th>144</th>\n",
       "      <td>1</td>\n",
       "      <td>2450000.0</td>\n",
       "      <td>27.00</td>\n",
       "      <td>2017-03-30T00:00:00</td>\n",
       "      <td>0</td>\n",
       "      <td>NaN</td>\n",
       "      <td>24.0</td>\n",
       "      <td>15.50</td>\n",
       "      <td>2</td>\n",
       "      <td>NaN</td>\n",
       "      <td>True</td>\n",
       "      <td>False</td>\n",
       "      <td>NaN</td>\n",
       "      <td>2.0</td>\n",
       "      <td>посёлок Мурино</td>\n",
       "      <td>NaN</td>\n",
       "      <td>NaN</td>\n",
       "      <td>NaN</td>\n",
       "      <td>NaN</td>\n",
       "      <td>NaN</td>\n",
       "      <td>NaN</td>\n",
       "      <td>181.0</td>\n",
       "    </tr>\n",
       "    <tr>\n",
       "      <th>349</th>\n",
       "      <td>4</td>\n",
       "      <td>2320000.0</td>\n",
       "      <td>25.00</td>\n",
       "      <td>2017-09-27T00:00:00</td>\n",
       "      <td>0</td>\n",
       "      <td>NaN</td>\n",
       "      <td>14.0</td>\n",
       "      <td>17.00</td>\n",
       "      <td>1</td>\n",
       "      <td>NaN</td>\n",
       "      <td>False</td>\n",
       "      <td>True</td>\n",
       "      <td>NaN</td>\n",
       "      <td>0.0</td>\n",
       "      <td>деревня Кудрово</td>\n",
       "      <td>NaN</td>\n",
       "      <td>NaN</td>\n",
       "      <td>NaN</td>\n",
       "      <td>NaN</td>\n",
       "      <td>NaN</td>\n",
       "      <td>NaN</td>\n",
       "      <td>45.0</td>\n",
       "    </tr>\n",
       "    <tr>\n",
       "      <th>440</th>\n",
       "      <td>8</td>\n",
       "      <td>2480000.0</td>\n",
       "      <td>27.11</td>\n",
       "      <td>2018-03-12T00:00:00</td>\n",
       "      <td>0</td>\n",
       "      <td>NaN</td>\n",
       "      <td>17.0</td>\n",
       "      <td>24.75</td>\n",
       "      <td>4</td>\n",
       "      <td>NaN</td>\n",
       "      <td>True</td>\n",
       "      <td>False</td>\n",
       "      <td>NaN</td>\n",
       "      <td>2.0</td>\n",
       "      <td>Санкт-Петербург</td>\n",
       "      <td>38171.0</td>\n",
       "      <td>15015.0</td>\n",
       "      <td>0.0</td>\n",
       "      <td>NaN</td>\n",
       "      <td>2.0</td>\n",
       "      <td>982.0</td>\n",
       "      <td>64.0</td>\n",
       "    </tr>\n",
       "    <tr>\n",
       "      <th>508</th>\n",
       "      <td>0</td>\n",
       "      <td>3375000.0</td>\n",
       "      <td>34.40</td>\n",
       "      <td>2017-03-28T00:00:00</td>\n",
       "      <td>0</td>\n",
       "      <td>NaN</td>\n",
       "      <td>26.0</td>\n",
       "      <td>24.30</td>\n",
       "      <td>19</td>\n",
       "      <td>NaN</td>\n",
       "      <td>False</td>\n",
       "      <td>True</td>\n",
       "      <td>NaN</td>\n",
       "      <td>1.0</td>\n",
       "      <td>посёлок Парголово</td>\n",
       "      <td>53115.0</td>\n",
       "      <td>19292.0</td>\n",
       "      <td>0.0</td>\n",
       "      <td>NaN</td>\n",
       "      <td>1.0</td>\n",
       "      <td>593.0</td>\n",
       "      <td>430.0</td>\n",
       "    </tr>\n",
       "    <tr>\n",
       "      <th>608</th>\n",
       "      <td>2</td>\n",
       "      <td>1850000.0</td>\n",
       "      <td>25.00</td>\n",
       "      <td>2019-02-20T00:00:00</td>\n",
       "      <td>0</td>\n",
       "      <td>NaN</td>\n",
       "      <td>10.0</td>\n",
       "      <td>NaN</td>\n",
       "      <td>7</td>\n",
       "      <td>NaN</td>\n",
       "      <td>True</td>\n",
       "      <td>False</td>\n",
       "      <td>NaN</td>\n",
       "      <td>NaN</td>\n",
       "      <td>посёлок Шушары</td>\n",
       "      <td>NaN</td>\n",
       "      <td>NaN</td>\n",
       "      <td>NaN</td>\n",
       "      <td>NaN</td>\n",
       "      <td>NaN</td>\n",
       "      <td>NaN</td>\n",
       "      <td>29.0</td>\n",
       "    </tr>\n",
       "  </tbody>\n",
       "</table>\n",
       "</div>"
      ],
      "text/plain": [
       "     total_images  last_price  total_area first_day_exposition  rooms  \\\n",
       "144             1   2450000.0       27.00  2017-03-30T00:00:00      0   \n",
       "349             4   2320000.0       25.00  2017-09-27T00:00:00      0   \n",
       "440             8   2480000.0       27.11  2018-03-12T00:00:00      0   \n",
       "508             0   3375000.0       34.40  2017-03-28T00:00:00      0   \n",
       "608             2   1850000.0       25.00  2019-02-20T00:00:00      0   \n",
       "\n",
       "     ceiling_height  floors_total  living_area  floor is_apartment  studio  \\\n",
       "144             NaN          24.0        15.50      2          NaN    True   \n",
       "349             NaN          14.0        17.00      1          NaN   False   \n",
       "440             NaN          17.0        24.75      4          NaN    True   \n",
       "508             NaN          26.0        24.30     19          NaN   False   \n",
       "608             NaN          10.0          NaN      7          NaN    True   \n",
       "\n",
       "     open_plan  kitchen_area  balcony      locality_name  airports_nearest  \\\n",
       "144      False           NaN      2.0     посёлок Мурино               NaN   \n",
       "349       True           NaN      0.0    деревня Кудрово               NaN   \n",
       "440      False           NaN      2.0    Санкт-Петербург           38171.0   \n",
       "508       True           NaN      1.0  посёлок Парголово           53115.0   \n",
       "608      False           NaN      NaN     посёлок Шушары               NaN   \n",
       "\n",
       "     cityCenters_nearest  parks_around3000  parks_nearest  ponds_around3000  \\\n",
       "144                  NaN               NaN            NaN               NaN   \n",
       "349                  NaN               NaN            NaN               NaN   \n",
       "440              15015.0               0.0            NaN               2.0   \n",
       "508              19292.0               0.0            NaN               1.0   \n",
       "608                  NaN               NaN            NaN               NaN   \n",
       "\n",
       "     ponds_nearest  days_exposition  \n",
       "144            NaN            181.0  \n",
       "349            NaN             45.0  \n",
       "440          982.0             64.0  \n",
       "508          593.0            430.0  \n",
       "608            NaN             29.0  "
      ]
     },
     "execution_count": 1,
     "metadata": {},
     "output_type": "execute_result"
    }
   ],
   "source": [
    "import pandas as pd\n",
    "import matplotlib.pyplot as plt\n",
    "# для отображения большего количества колонок \n",
    "pd.set_option('display.max_columns', 30)\n",
    "# прячем предупреждение SettingWithCopyWarning\n",
    "pd.options.mode.chained_assignment = None  \n",
    "\n",
    "df = pd.read_csv(\"/datasets/real_estate_data.csv\", delimiter  = \"\\t\")\n",
    "print(df.info())\n",
    "df[df[\"rooms\"] == 0].head()"
   ]
  },
  {
   "cell_type": "markdown",
   "metadata": {},
   "source": [
    "### Вывод"
   ]
  },
  {
   "cell_type": "markdown",
   "metadata": {},
   "source": [
    "#### В полученной выгрузке видим частичное отсутствие данных в некоторых колонках и несовпадение типов между реальным и предполагаемым по смыслу колонки. Так например в колонке first_day_exposition при парсинге данных неправильно распознался тип колонки, а отсутствующие данные в колонке balcony можно заполнить по смыслу.  \n",
    "#### В выгрузке множество колонок которые можно обработать и добавить в них данных, например заполнить ponds_nearest на основе ponds_around3000, однако эти колонки не участвуют в финальных расчетах, поэтому их можно пропустить."
   ]
  },
  {
   "cell_type": "markdown",
   "metadata": {},
   "source": [
    "### Шаг 2. Предобработка данных"
   ]
  },
  {
   "cell_type": "code",
   "execution_count": 2,
   "metadata": {},
   "outputs": [
    {
     "name": "stdout",
     "output_type": "stream",
     "text": [
      "<class 'pandas.core.frame.DataFrame'>\n",
      "RangeIndex: 23699 entries, 0 to 23698\n",
      "Data columns (total 22 columns):\n",
      "total_images            23699 non-null int64\n",
      "last_price              23699 non-null int64\n",
      "total_area              23699 non-null float64\n",
      "first_day_exposition    23699 non-null datetime64[ns]\n",
      "rooms                   23699 non-null int64\n",
      "ceiling_height          14504 non-null float64\n",
      "floors_total            23699 non-null int64\n",
      "living_area             21796 non-null float64\n",
      "floor                   23699 non-null int64\n",
      "is_apartment            23699 non-null bool\n",
      "studio                  23699 non-null bool\n",
      "open_plan               23699 non-null bool\n",
      "kitchen_area            21421 non-null float64\n",
      "balcony                 23699 non-null float64\n",
      "locality_name           23650 non-null object\n",
      "airports_nearest        18157 non-null float64\n",
      "cityCenters_nearest     18180 non-null float64\n",
      "parks_around3000        18181 non-null float64\n",
      "parks_nearest           8079 non-null float64\n",
      "ponds_around3000        18181 non-null float64\n",
      "ponds_nearest           9110 non-null float64\n",
      "days_exposition         20518 non-null float64\n",
      "dtypes: bool(3), datetime64[ns](1), float64(12), int64(5), object(1)\n",
      "memory usage: 3.5+ MB\n",
      "None\n"
     ]
    },
    {
     "data": {
      "text/html": [
       "<div>\n",
       "<style scoped>\n",
       "    .dataframe tbody tr th:only-of-type {\n",
       "        vertical-align: middle;\n",
       "    }\n",
       "\n",
       "    .dataframe tbody tr th {\n",
       "        vertical-align: top;\n",
       "    }\n",
       "\n",
       "    .dataframe thead th {\n",
       "        text-align: right;\n",
       "    }\n",
       "</style>\n",
       "<table border=\"1\" class=\"dataframe\">\n",
       "  <thead>\n",
       "    <tr style=\"text-align: right;\">\n",
       "      <th></th>\n",
       "      <th>total_images</th>\n",
       "      <th>last_price</th>\n",
       "      <th>total_area</th>\n",
       "      <th>first_day_exposition</th>\n",
       "      <th>rooms</th>\n",
       "      <th>ceiling_height</th>\n",
       "      <th>floors_total</th>\n",
       "      <th>living_area</th>\n",
       "      <th>floor</th>\n",
       "      <th>is_apartment</th>\n",
       "      <th>studio</th>\n",
       "      <th>open_plan</th>\n",
       "      <th>kitchen_area</th>\n",
       "      <th>balcony</th>\n",
       "      <th>locality_name</th>\n",
       "      <th>airports_nearest</th>\n",
       "      <th>cityCenters_nearest</th>\n",
       "      <th>parks_around3000</th>\n",
       "      <th>parks_nearest</th>\n",
       "      <th>ponds_around3000</th>\n",
       "      <th>ponds_nearest</th>\n",
       "      <th>days_exposition</th>\n",
       "    </tr>\n",
       "  </thead>\n",
       "  <tbody>\n",
       "    <tr>\n",
       "      <th>0</th>\n",
       "      <td>20</td>\n",
       "      <td>13000000</td>\n",
       "      <td>108.0</td>\n",
       "      <td>2019-03-07</td>\n",
       "      <td>3</td>\n",
       "      <td>2.70</td>\n",
       "      <td>16</td>\n",
       "      <td>51.0</td>\n",
       "      <td>8</td>\n",
       "      <td>False</td>\n",
       "      <td>False</td>\n",
       "      <td>False</td>\n",
       "      <td>25.0</td>\n",
       "      <td>0.0</td>\n",
       "      <td>Санкт-Петербург</td>\n",
       "      <td>18863.0</td>\n",
       "      <td>16028.0</td>\n",
       "      <td>1.0</td>\n",
       "      <td>482.0</td>\n",
       "      <td>2.0</td>\n",
       "      <td>755.0</td>\n",
       "      <td>NaN</td>\n",
       "    </tr>\n",
       "    <tr>\n",
       "      <th>1</th>\n",
       "      <td>7</td>\n",
       "      <td>3350000</td>\n",
       "      <td>40.4</td>\n",
       "      <td>2018-12-04</td>\n",
       "      <td>1</td>\n",
       "      <td>NaN</td>\n",
       "      <td>11</td>\n",
       "      <td>18.6</td>\n",
       "      <td>1</td>\n",
       "      <td>False</td>\n",
       "      <td>False</td>\n",
       "      <td>False</td>\n",
       "      <td>11.0</td>\n",
       "      <td>2.0</td>\n",
       "      <td>посёлок Шушары</td>\n",
       "      <td>12817.0</td>\n",
       "      <td>18603.0</td>\n",
       "      <td>0.0</td>\n",
       "      <td>NaN</td>\n",
       "      <td>0.0</td>\n",
       "      <td>NaN</td>\n",
       "      <td>81.0</td>\n",
       "    </tr>\n",
       "    <tr>\n",
       "      <th>2</th>\n",
       "      <td>10</td>\n",
       "      <td>5196000</td>\n",
       "      <td>56.0</td>\n",
       "      <td>2015-08-20</td>\n",
       "      <td>2</td>\n",
       "      <td>NaN</td>\n",
       "      <td>5</td>\n",
       "      <td>34.3</td>\n",
       "      <td>4</td>\n",
       "      <td>False</td>\n",
       "      <td>False</td>\n",
       "      <td>False</td>\n",
       "      <td>8.3</td>\n",
       "      <td>0.0</td>\n",
       "      <td>Санкт-Петербург</td>\n",
       "      <td>21741.0</td>\n",
       "      <td>13933.0</td>\n",
       "      <td>1.0</td>\n",
       "      <td>90.0</td>\n",
       "      <td>2.0</td>\n",
       "      <td>574.0</td>\n",
       "      <td>558.0</td>\n",
       "    </tr>\n",
       "    <tr>\n",
       "      <th>3</th>\n",
       "      <td>0</td>\n",
       "      <td>64900000</td>\n",
       "      <td>159.0</td>\n",
       "      <td>2015-07-24</td>\n",
       "      <td>3</td>\n",
       "      <td>NaN</td>\n",
       "      <td>14</td>\n",
       "      <td>NaN</td>\n",
       "      <td>9</td>\n",
       "      <td>False</td>\n",
       "      <td>False</td>\n",
       "      <td>False</td>\n",
       "      <td>NaN</td>\n",
       "      <td>0.0</td>\n",
       "      <td>Санкт-Петербург</td>\n",
       "      <td>28098.0</td>\n",
       "      <td>6800.0</td>\n",
       "      <td>2.0</td>\n",
       "      <td>84.0</td>\n",
       "      <td>3.0</td>\n",
       "      <td>234.0</td>\n",
       "      <td>424.0</td>\n",
       "    </tr>\n",
       "    <tr>\n",
       "      <th>4</th>\n",
       "      <td>2</td>\n",
       "      <td>10000000</td>\n",
       "      <td>100.0</td>\n",
       "      <td>2018-06-19</td>\n",
       "      <td>2</td>\n",
       "      <td>3.03</td>\n",
       "      <td>14</td>\n",
       "      <td>32.0</td>\n",
       "      <td>13</td>\n",
       "      <td>False</td>\n",
       "      <td>False</td>\n",
       "      <td>False</td>\n",
       "      <td>41.0</td>\n",
       "      <td>0.0</td>\n",
       "      <td>Санкт-Петербург</td>\n",
       "      <td>31856.0</td>\n",
       "      <td>8098.0</td>\n",
       "      <td>2.0</td>\n",
       "      <td>112.0</td>\n",
       "      <td>1.0</td>\n",
       "      <td>48.0</td>\n",
       "      <td>121.0</td>\n",
       "    </tr>\n",
       "  </tbody>\n",
       "</table>\n",
       "</div>"
      ],
      "text/plain": [
       "   total_images  last_price  total_area first_day_exposition  rooms  \\\n",
       "0            20    13000000       108.0           2019-03-07      3   \n",
       "1             7     3350000        40.4           2018-12-04      1   \n",
       "2            10     5196000        56.0           2015-08-20      2   \n",
       "3             0    64900000       159.0           2015-07-24      3   \n",
       "4             2    10000000       100.0           2018-06-19      2   \n",
       "\n",
       "   ceiling_height  floors_total  living_area  floor  is_apartment  studio  \\\n",
       "0            2.70            16         51.0      8         False   False   \n",
       "1             NaN            11         18.6      1         False   False   \n",
       "2             NaN             5         34.3      4         False   False   \n",
       "3             NaN            14          NaN      9         False   False   \n",
       "4            3.03            14         32.0     13         False   False   \n",
       "\n",
       "   open_plan  kitchen_area  balcony    locality_name  airports_nearest  \\\n",
       "0      False          25.0      0.0  Санкт-Петербург           18863.0   \n",
       "1      False          11.0      2.0   посёлок Шушары           12817.0   \n",
       "2      False           8.3      0.0  Санкт-Петербург           21741.0   \n",
       "3      False           NaN      0.0  Санкт-Петербург           28098.0   \n",
       "4      False          41.0      0.0  Санкт-Петербург           31856.0   \n",
       "\n",
       "   cityCenters_nearest  parks_around3000  parks_nearest  ponds_around3000  \\\n",
       "0              16028.0               1.0          482.0               2.0   \n",
       "1              18603.0               0.0            NaN               0.0   \n",
       "2              13933.0               1.0           90.0               2.0   \n",
       "3               6800.0               2.0           84.0               3.0   \n",
       "4               8098.0               2.0          112.0               1.0   \n",
       "\n",
       "   ponds_nearest  days_exposition  \n",
       "0          755.0              NaN  \n",
       "1            NaN             81.0  \n",
       "2          574.0            558.0  \n",
       "3          234.0            424.0  \n",
       "4           48.0            121.0  "
      ]
     },
     "execution_count": 2,
     "metadata": {},
     "output_type": "execute_result"
    }
   ],
   "source": [
    "# Перед началом основной работы необходимо обработать пропущенные данные (к примеру необязательные поля при создании заявки на сайте)\n",
    "# А также привести типы данных в колонке к удобному для дальнейших расчетов\n",
    "\n",
    "\n",
    "# для поля is_appartment приведем значения к булевому типу, \n",
    "# также будем считать пропущенные значения как false, (аппартаменты нечастый тип недвижимости и имеет свои особенности\n",
    "# вероятней всего пользователь укажет подобный нюанс в объявлении)\n",
    "df[\"is_apartment\"] = df[\"is_apartment\"].fillna(False)\n",
    "\n",
    "# в случае если поле с балконом не заполенно - вероятней всего балконов в квартире нет, и можно заполнить отсутствующее\n",
    "# значение нулями\n",
    "df[\"balcony\"] = df[\"balcony\"].fillna(0)\n",
    "\n",
    "# в случае, если общее количество этажей не указано заполняем их значение нулями,\n",
    "# т.к. в финальных вопросах этот параметр не критичный\n",
    "df[\"floors_total\"] = df[\"floors_total\"].fillna(0)\n",
    "\n",
    "# т.к.last_price и floors_total приведем к целочисленному типу, т.к. не бывает дробных этажей,\n",
    "# а цену можно округлить до рублей\n",
    "df[\"last_price\"] = df[\"last_price\"].astype(int)\n",
    "df[\"floors_total\"] = df[\"floors_total\"].astype(int)\n",
    "\n",
    "# is_apartment используется как булевое значение, приведем к булевому типу. С помощью этой операции мы сможем использовать поле в дальнейшей работе.\n",
    "df[\"is_apartment\"] = df[\"is_apartment\"].astype(bool)\n",
    "\n",
    "# приведем из типа object к типу даты first_day_exposition.\n",
    "# Используя правильный тип колонки мы сможем подробно изучить продажи в конкретные месяца и дни недели\n",
    "df[\"first_day_exposition\"] = pd.to_datetime(df[\"first_day_exposition\"])\n",
    "\n",
    "\n",
    "print(df.info())\n",
    "df.head()\n",
    "\n",
    "# избавимся от крайних и подозрительных значений\n",
    "# print(df.shape[0])\n",
    "# df = df.query('ceiling_height < 10 and last_price >= 430000 and rooms > 0')\n",
    "# проверим, что не срезали слишком много\n",
    "# print(df.shape[0])"
   ]
  },
  {
   "cell_type": "markdown",
   "metadata": {},
   "source": [
    "### Шаг 3. Посчитайте и добавьте в таблицу"
   ]
  },
  {
   "cell_type": "code",
   "execution_count": 3,
   "metadata": {
    "scrolled": true
   },
   "outputs": [
    {
     "name": "stdout",
     "output_type": "stream",
     "text": [
      "   total_images  last_price  total_area first_day_exposition  rooms  \\\n",
      "0            20    13000000       108.0           2019-03-07      3   \n",
      "1             7     3350000        40.4           2018-12-04      1   \n",
      "2            10     5196000        56.0           2015-08-20      2   \n",
      "3             0    64900000       159.0           2015-07-24      3   \n",
      "4             2    10000000       100.0           2018-06-19      2   \n",
      "\n",
      "   ceiling_height  floors_total  living_area  floor  is_apartment  studio  \\\n",
      "0            2.70            16         51.0      8         False   False   \n",
      "1             NaN            11         18.6      1         False   False   \n",
      "2             NaN             5         34.3      4         False   False   \n",
      "3             NaN            14          NaN      9         False   False   \n",
      "4            3.03            14         32.0     13         False   False   \n",
      "\n",
      "   open_plan  kitchen_area  balcony    locality_name  airports_nearest  \\\n",
      "0      False          25.0      0.0  Санкт-Петербург           18863.0   \n",
      "1      False          11.0      2.0   посёлок Шушары           12817.0   \n",
      "2      False           8.3      0.0  Санкт-Петербург           21741.0   \n",
      "3      False           NaN      0.0  Санкт-Петербург           28098.0   \n",
      "4      False          41.0      0.0  Санкт-Петербург           31856.0   \n",
      "\n",
      "   cityCenters_nearest  parks_around3000  parks_nearest  ponds_around3000  \\\n",
      "0              16028.0               1.0          482.0               2.0   \n",
      "1              18603.0               0.0            NaN               0.0   \n",
      "2              13933.0               1.0           90.0               2.0   \n",
      "3               6800.0               2.0           84.0               3.0   \n",
      "4               8098.0               2.0          112.0               1.0   \n",
      "\n",
      "   ponds_nearest  days_exposition  square_meter_price  weekday  month  year  \\\n",
      "0          755.0              NaN       120370.370370        3      3  2019   \n",
      "1            NaN             81.0        82920.792079        1     12  2018   \n",
      "2          574.0            558.0        92785.714286        3      8  2015   \n",
      "3          234.0            424.0       408176.100629        4      7  2015   \n",
      "4           48.0            121.0       100000.000000        1      6  2018   \n",
      "\n",
      "   living_to_total  kitchen_to_total floor_type  \n",
      "0         0.472222          0.231481     другой  \n",
      "1         0.460396          0.272277     первый  \n",
      "2         0.612500          0.148214     другой  \n",
      "3              NaN               NaN     другой  \n",
      "4         0.320000          0.410000     другой  \n",
      "<class 'pandas.core.frame.DataFrame'>\n",
      "RangeIndex: 23699 entries, 0 to 23698\n",
      "Data columns (total 29 columns):\n",
      "total_images            23699 non-null int64\n",
      "last_price              23699 non-null int64\n",
      "total_area              23699 non-null float64\n",
      "first_day_exposition    23699 non-null datetime64[ns]\n",
      "rooms                   23699 non-null int64\n",
      "ceiling_height          14504 non-null float64\n",
      "floors_total            23699 non-null int64\n",
      "living_area             21796 non-null float64\n",
      "floor                   23699 non-null int64\n",
      "is_apartment            23699 non-null bool\n",
      "studio                  23699 non-null bool\n",
      "open_plan               23699 non-null bool\n",
      "kitchen_area            21421 non-null float64\n",
      "balcony                 23699 non-null float64\n",
      "locality_name           23650 non-null object\n",
      "airports_nearest        18157 non-null float64\n",
      "cityCenters_nearest     18180 non-null float64\n",
      "parks_around3000        18181 non-null float64\n",
      "parks_nearest           8079 non-null float64\n",
      "ponds_around3000        18181 non-null float64\n",
      "ponds_nearest           9110 non-null float64\n",
      "days_exposition         20518 non-null float64\n",
      "square_meter_price      23699 non-null float64\n",
      "weekday                 23699 non-null int64\n",
      "month                   23699 non-null int64\n",
      "year                    23699 non-null int64\n",
      "living_to_total         21796 non-null float64\n",
      "kitchen_to_total        21421 non-null float64\n",
      "floor_type              23699 non-null object\n",
      "dtypes: bool(3), datetime64[ns](1), float64(15), int64(8), object(2)\n",
      "memory usage: 4.8+ MB\n",
      "None\n"
     ]
    }
   ],
   "source": [
    "# получим цену за квадратный метр\n",
    "df[\"square_meter_price\"] = df[\"last_price\"] / df[\"total_area\"]\n",
    "\n",
    "# получим день недели, месяц и выделим под них колонки\n",
    "# при необходимости можно выделить day_name для дней недели, \n",
    "# однако с численным представлением легче строить графики в дальнейшем\n",
    "df['weekday'] = df['first_day_exposition'].dt.weekday\n",
    "# df['weekday'] = df['first_day_exposition'].dt.day_name()\n",
    "df['month'] = df['first_day_exposition'].dt.month\n",
    "df['year'] = df['first_day_exposition'].dt.year\n",
    "\n",
    "# получим отношение жилой площади и площади кухни к основной \n",
    "df[\"living_to_total\"] = df[\"living_area\"] / df[\"total_area\"]\n",
    "df[\"kitchen_to_total\"] = df[\"kitchen_area\"] / df[\"total_area\"]\n",
    "\n",
    "# функция для получения типа этажа\n",
    "def setFloor(item):\n",
    "    if item[\"floor\"] == 1:\n",
    "        return \"первый\"\n",
    "    elif item[\"floor\"] == item[\"floors_total\"]:\n",
    "        return \"последний\"\n",
    "    else:\n",
    "        return \"другой\"\n",
    "\n",
    "# получим типы этажа\n",
    "df['floor_type'] = df.apply(lambda row: setFloor(row), axis=1)\n",
    "\n",
    "print(df.head())\n",
    "print(df.info())\n",
    "    "
   ]
  },
  {
   "cell_type": "markdown",
   "metadata": {},
   "source": [
    "### Шаг 4. Проведите исследовательский анализ данных и выполните инструкции:"
   ]
  },
  {
   "cell_type": "code",
   "execution_count": 4,
   "metadata": {},
   "outputs": [
    {
     "data": {
      "image/png": "[encoded data removed]",
      "text/plain": [
       "<Figure size 1080x288 with 1 Axes>"
      ]
     },
     "metadata": {
      "needs_background": "light"
     },
     "output_type": "display_data"
    },
    {
     "data": {
      "image/png": "[encoded data removed]",
      "text/plain": [
       "<Figure size 1080x288 with 1 Axes>"
      ]
     },
     "metadata": {
      "needs_background": "light"
     },
     "output_type": "display_data"
    },
    {
     "data": {
      "image/png": "[encoded data removed]",
      "text/plain": [
       "<Figure size 1080x288 with 1 Axes>"
      ]
     },
     "metadata": {
      "needs_background": "light"
     },
     "output_type": "display_data"
    },
    {
     "data": {
      "image/png": "[encoded data removed]",
      "text/plain": [
       "<Figure size 1080x288 with 1 Axes>"
      ]
     },
     "metadata": {
      "needs_background": "light"
     },
     "output_type": "display_data"
    }
   ],
   "source": [
    "def draw_hist_plot(data, plot_title, max_value):\n",
    "    if max_value == 0: \n",
    "        data.hist(bins=30, figsize=(15,4))\n",
    "    else:\n",
    "        data.hist(bins=30, range=(0, max_value), figsize=(15,4))\n",
    "    plt.suptitle(plot_title, fontsize='large')\n",
    "    plt.show()\n",
    "\n",
    "draw_hist_plot(df[\"total_area\"], \"Total area\", 0)\n",
    "draw_hist_plot(df[\"rooms\"], \"Rooms count\", 0)\n",
    "draw_hist_plot(df[\"ceiling_height\"], \"Ceiling height\", 0)\n",
    "draw_hist_plot(df[\"last_price\"], \"Last price\", 0)"
   ]
  },
  {
   "cell_type": "markdown",
   "metadata": {},
   "source": [
    "Полученные гистограммы сложно назвать информативными, хорошо видно, что часть значений сильно выбивается за пределы нормы, а в части вероятно присутствуют ошибочные данные. \\\n",
    "Например в колонке ceiling_height присутствуют потолки под 100 метров. Вероятно, данные близкие к 100 метрам появились в результате ошибочного заполнения, также как и 20 - 25 метров (по всей видимости, пользователь не добавил точку при заполнении).  Ограничим максимальную высоту в 4 метра, а минимальную - 2 \\\n",
    "Также для гистограммы last_price сложно проанализировать среднее распределение цен из-за слишком высокой стоимостьи жилья для части квартир. В данном случае ограничим для гистограммы цену до 20.000.000 \\\n",
    "В гистограмме rooms заметим, что в небольшой части квартир число комнат равно 0. Избавимся от этих значений. Для гистограммы ограничим максимальное значение комнат до 8 \\\n",
    "В гистограмме total_area ограничим максимальное значение до 300 "
   ]
  },
  {
   "cell_type": "code",
   "execution_count": 5,
   "metadata": {},
   "outputs": [
    {
     "name": "stdout",
     "output_type": "stream",
     "text": [
      "Количество строк до обрезки 23699\n",
      "Количество строк после обрезки 23443\n"
     ]
    },
    {
     "data": {
      "image/png": "[encoded data removed]",
      "text/plain": [
       "<Figure size 1080x288 with 1 Axes>"
      ]
     },
     "metadata": {
      "needs_background": "light"
     },
     "output_type": "display_data"
    },
    {
     "data": {
      "image/png": "[encoded data removed]",
      "text/plain": [
       "<Figure size 1080x288 with 1 Axes>"
      ]
     },
     "metadata": {
      "needs_background": "light"
     },
     "output_type": "display_data"
    },
    {
     "data": {
      "image/png": "[encoded data removed]",
      "text/plain": [
       "<Figure size 1080x288 with 1 Axes>"
      ]
     },
     "metadata": {
      "needs_background": "light"
     },
     "output_type": "display_data"
    },
    {
     "data": {
      "image/png": "[encoded data removed]",
      "text/plain": [
       "<Figure size 1080x288 with 1 Axes>"
      ]
     },
     "metadata": {
      "needs_background": "light"
     },
     "output_type": "display_data"
    }
   ],
   "source": [
    "# Избавимся от крайних и подозрительных значений\n",
    "print(\"Количество строк до обрезки\", df.shape[0])\n",
    "df = df.query('rooms < 8 and rooms > 0 and total_area < 300 and ((ceiling_height < 4) and (ceiling_height > 2)) or (ceiling_height != ceiling_height)')\n",
    "# проверим, что не срезали слишком много\n",
    "print(\"Количество строк после обрезки\", df.shape[0])\n",
    "\n",
    "# Снова построим гистограммы после редактирования данных, посмотрим как они изменятся\n",
    "draw_hist_plot(df[\"total_area\"], \"Total area\", 300)\n",
    "draw_hist_plot(df[\"rooms\"], \"Rooms count\", 10)\n",
    "draw_hist_plot(df[\"ceiling_height\"], \"Ceiling height\", 0)\n",
    "draw_hist_plot(df[\"last_price\"], \"Last price\", 20000000)"
   ]
  },
  {
   "cell_type": "markdown",
   "metadata": {},
   "source": [
    "После преобразований легко проанализировать полученные данные. \\\n",
    "Наиболее часто в объявлениях можно встретить квартиры с площадью 50 метров, одно или двухкомнатные, с высотой потолка в 2,5 метра и ценой от 3 до 5 миллионов рублей."
   ]
  },
  {
   "cell_type": "code",
   "execution_count": 6,
   "metadata": {},
   "outputs": [
    {
     "name": "stdout",
     "output_type": "stream",
     "text": [
      "Среднее значение по колонке days_exposition: 180.42935906271538\n",
      "Среднее значение по колонке days_exposition: 95.0\n"
     ]
    },
    {
     "data": {
      "image/png": "[encoded data removed]",
      "text/plain": [
       "<Figure size 1152x432 with 1 Axes>"
      ]
     },
     "metadata": {
      "needs_background": "light"
     },
     "output_type": "display_data"
    }
   ],
   "source": [
    "\n",
    "# выведем средние и медианные данные по колонке days_exposition\n",
    "print(\"Среднее значение по колонке days_exposition:\", df[\"days_exposition\"].mean())\n",
    "print(\"Среднее значение по колонке days_exposition:\", df[\"days_exposition\"].median())\n",
    "\n",
    "plt.suptitle('Days post')\n",
    "df[\"days_exposition\"].hist(figsize=(16, 6), bins=100)\n",
    "plt.show()\n"
   ]
  },
  {
   "cell_type": "markdown",
   "metadata": {},
   "source": [
    "Cогласно графику видим - что в среднем объявление снимают по прошествию 200 дней, довольно часты случаи, когда объявление находится на сайте от 200 до 800 дней и совсем уж редко свыше 800 дней"
   ]
  },
  {
   "cell_type": "code",
   "execution_count": 7,
   "metadata": {},
   "outputs": [
    {
     "name": "stdout",
     "output_type": "stream",
     "text": [
      "Корреляция между площадью и ценой: 0.6074752704812997\n",
      "Корреляция между числом комнат и ценой: 0.34090657432723004\n",
      "Корреляция между отдаленностью от центра и ценой: -0.21144313886761978\n",
      "Построим сводную таблицу по каждому из типов этажей:\n",
      "              last_price\n",
      "floor_type              \n",
      "другой      6.546188e+06\n",
      "первый      4.722620e+06\n",
      "последний   6.743169e+06\n"
     ]
    }
   ],
   "source": [
    "# посчитаем корреляции для цены относительно общей площади, количества комнат и удаленности от центра\n",
    "print(\"Корреляция между площадью и ценой:\", df[\"total_area\"].corr(df[\"last_price\"]))\n",
    "print(\"Корреляция между числом комнат и ценой:\", df[\"rooms\"].corr(df[\"last_price\"]))\n",
    "print(\"Корреляция между отдаленностью от центра и ценой:\", df[\"cityCenters_nearest\"].corr(df[\"last_price\"]))\n",
    "print(\"Построим сводную таблицу по каждому из типов этажей:\")\n",
    "print(pd.pivot_table(df, values='last_price', index='floor_type').sort_values(by='floor_type'))"
   ]
  },
  {
   "cell_type": "markdown",
   "metadata": {},
   "source": [
    "- Корреляция между площадью и ценой довольно высока, что видится логичным \n",
    "- Корреляция между числом комнат и ценой тоже существует, хоть и не такая значительная. \n",
    "- Корреляция между отдаленностью от центра и ценой отрицательная, однако это ожидаемо. Чем меньше значение в колонке cityCenters_nearest тем цена выше, т.е. цена вырастает по мере приближению к центру \n",
    "\n",
    "Построив сводную таблицу по средней цене в зависимости от этажа заметим значительное снижение стоимости квартиры, в случае если она располагается на первом этаже, и чуть менее значительное, но тоже заметное, если на последнем. \\\n",
    "Однако стоит помнить, что в нашей выборке присутствует жилье, которое состоит из двух-трех этажей. Обычно это старые, недорогие дома, и квартиры в них согласно нашей логике будут либо на первом либо на последнем этаже попробуем получить сводную таблицу за исключением этих типов домов и сравним результаты"
   ]
  },
  {
   "cell_type": "code",
   "execution_count": 8,
   "metadata": {},
   "outputs": [
    {
     "name": "stdout",
     "output_type": "stream",
     "text": [
      "              last_price\n",
      "floor_type              \n",
      "другой      6.557758e+06\n",
      "первый      4.874931e+06\n",
      "последний   7.035720e+06\n"
     ]
    }
   ],
   "source": [
    "df_without_first_3_floors = df.query(\"(floors_total > 3) or (floors_total != floors_total)\")\n",
    "print(pd.pivot_table(df_without_first_3_floors, values='last_price', index='floor_type').sort_values(by='floor_type'))\n"
   ]
  },
  {
   "cell_type": "markdown",
   "metadata": {},
   "source": [
    "Получим схожую картину, но с меньшим отрывом в цене"
   ]
  },
  {
   "cell_type": "code",
   "execution_count": 9,
   "metadata": {},
   "outputs": [
    {
     "data": {
      "image/png": "[encoded data removed]",
      "text/plain": [
       "<Figure size 432x288 with 1 Axes>"
      ]
     },
     "metadata": {
      "needs_background": "light"
     },
     "output_type": "display_data"
    },
    {
     "data": {
      "image/png": "[encoded data removed]",
      "text/plain": [
       "<Figure size 432x288 with 1 Axes>"
      ]
     },
     "metadata": {
      "needs_background": "light"
     },
     "output_type": "display_data"
    },
    {
     "data": {
      "image/png": "[encoded data removed]",
      "text/plain": [
       "<Figure size 432x288 with 1 Axes>"
      ]
     },
     "metadata": {
      "needs_background": "light"
     },
     "output_type": "display_data"
    }
   ],
   "source": [
    "# функция построения графика по pivot_table\n",
    "def draw_plot_by_pivot_data(df, values, column, title):\n",
    "    pd.pivot_table(df, values=values, index=column).plot()\n",
    "    plt.suptitle(title, fontsize='large')\n",
    "    plt.show()\n",
    "\n",
    "# получим графики продаж для дней недели, месяцев, годов\n",
    "draw_plot_by_pivot_data(df, 'last_price','weekday', 'Weekday')\n",
    "draw_plot_by_pivot_data(df, 'last_price','month', 'Month')\n",
    "draw_plot_by_pivot_data(df, 'last_price','year', 'Year')\n"
   ]
  },
  {
   "cell_type": "markdown",
   "metadata": {},
   "source": [
    "Наиболее часто дорогое жилье выкладывают на сайт в выходные дни \\\n",
    "По графику заметим спад в цене в летние месяца, а в сентябре и конце года стоимость резко подскакивает \\\n",
    "Заметим, что начале запуска системы 2014 - 2015 год, когда сервис был менее популярен на сайте в основном публиковали дорогое жилье, в дальнейшем видим более плавный график цены с небольшим увеличением для 2019 года"
   ]
  },
  {
   "cell_type": "code",
   "execution_count": 10,
   "metadata": {
    "scrolled": true
   },
   "outputs": [
    {
     "name": "stdout",
     "output_type": "stream",
     "text": [
      "Список 10 самых популярных местностей, отсортированных по цене на квадратный метр\n",
      "                   square_meter_price\n",
      "locality_name                        \n",
      "Выборг                   58250.660654\n",
      "Всеволожск               68563.864824\n",
      "Гатчина                  68811.372828\n",
      "Колпино                  75424.579098\n",
      "посёлок Шушары           78655.592167\n",
      "посёлок Мурино           85696.571504\n",
      "посёлок Парголово        90175.913458\n",
      "деревня Кудрово          92412.495592\n",
      "Пушкин                  102777.293778\n",
      "Санкт-Петербург         114269.391117\n"
     ]
    },
    {
     "data": {
      "image/png": "[encoded data removed]",
      "text/plain": [
       "<Figure size 432x288 with 1 Axes>"
      ]
     },
     "metadata": {
      "needs_background": "light"
     },
     "output_type": "display_data"
    },
    {
     "name": "stdout",
     "output_type": "stream",
     "text": [
      "График резко меняется дважды, на 8 и 3 км.\n",
      "Возьмем точку центра города как 8 км, т.к. это первое резкое изменение цены\n"
     ]
    }
   ],
   "source": [
    "# получим названия 10 местностей с наибольшим числом объявлений \n",
    "top_10_by_locality_name = df[\"locality_name\"].value_counts().sort_values(ascending = False).head(10).index\n",
    "\n",
    "# получим датафрейм, в котором местности входит в 10 самых популярных\n",
    "print('Список 10 самых популярных местностей, отсортированных по цене на квадратный метр')\n",
    "top_10_by_locality_data = df.query('locality_name in @top_10_by_locality_name')\n",
    "print(pd.pivot_table(top_10_by_locality_data, values='square_meter_price', index='locality_name')\n",
    "      .sort_values(by='square_meter_price'))\n",
    "\n",
    "# получим датафрейм с объявленияим из Санкт-Петербурга и выделим в нем отдельную колонку \n",
    "# с расстоянием от центра измеряемого в километрах\n",
    "spb_flats = df[df[\"locality_name\"] == \"Санкт-Петербург\"]\n",
    "spb_flats[\"cityCenters_nearest_km\"] = spb_flats[\"cityCenters_nearest\"] / 1000\n",
    "spb_flats[\"cityCenters_nearest_km\"] = spb_flats[\"cityCenters_nearest_km\"].round()\n",
    "# график зависимости цены от расстояния до центра\n",
    "pd.pivot_table(spb_flats, values='last_price', index='cityCenters_nearest_km').plot(grid = True)\n",
    "plt.suptitle('Ceiling height', fontsize='large')\n",
    "plt.show()\n",
    "print(\"График резко меняется дважды, на 8 и 3 км.\")\n",
    "print(\"Возьмем точку центра города как 8 км, т.к. это первое резкое изменение цены\")\n",
    "# корреляции между площади жилья, расстояния до центра и общей площадью\n",
    "spb_flats_center = spb_flats[spb_flats[\"cityCenters_nearest_km\"] < 8]\n"
   ]
  },
  {
   "cell_type": "markdown",
   "metadata": {},
   "source": [
    "График резко меняется дважды, на 8 и 3 км. \\\n",
    "Будем считать центральной частью зону в 8 км от центра"
   ]
  },
  {
   "cell_type": "code",
   "execution_count": 11,
   "metadata": {},
   "outputs": [
    {
     "name": "stdout",
     "output_type": "stream",
     "text": [
      "Корреляция между площадью и ценой для центра Санкт-Петербурга: 0.565152077705904\n",
      "Корреляция между числом комнат и ценой для центра Санкт-Петербурга: 0.2824325175252883\n",
      "Корреляция между удаленностью от центра и ценой для центра Санкт-Петербурга: -0.050354103589079456\n"
     ]
    }
   ],
   "source": [
    "print(\"Корреляция между площадью и ценой для центра Санкт-Петербурга:\", spb_flats_center[\"total_area\"]\n",
    "      .corr(spb_flats_center[\"last_price\"]))\n",
    "print(\"Корреляция между числом комнат и ценой для центра Санкт-Петербурга:\", spb_flats_center[\"rooms\"]\n",
    "      .corr(spb_flats_center[\"last_price\"]))\n",
    "print(\"Корреляция между удаленностью от центра и ценой для центра Санкт-Петербурга:\", spb_flats_center[\"cityCenters_nearest\"]\n",
    "      .corr(spb_flats_center[\"last_price\"]))\n"
   ]
  },
  {
   "cell_type": "markdown",
   "metadata": {},
   "source": [
    "Заметим, что корреляция цены между параметрами количества комнат и площади в целом ниже чем по городу в целом \\\n",
    "И значительно ниже для отношений между параметрами удаленности от центра и ценой. Видимо сам факт нахождения в центральной части уже достаточен для высокой цены"
   ]
  },
  {
   "cell_type": "markdown",
   "metadata": {},
   "source": [
    "### Шаг 5. Общий вывод"
   ]
  },
  {
   "cell_type": "markdown",
   "metadata": {},
   "source": [
    "1) Для квартир находящихся в центре - само расположение является важным элементов ценообразования. Такие квартиры гораздо меньше зависят от площади и числа комнат, чем квартиры в черте города \\\n",
    "2) Самое дешевое жилье как правило располагается на первом этаже, жиль чуть подороже на последнем и самое дорогое между ними \\\n",
    "3) Самое дорогое жилье обычно выставляют в выходные дни, в сентябре и конце года. \\\n",
    "4) Наиболее дорогое жилье Санкт Петербурга находится внутри 8 киломметровой зоны от центра города. \\\n",
    "5) В среднем объявление висит на сайте до 200 дней, в редких случаях объявление может задержаться и более 800 дней"
   ]
  }
 ],
 "metadata": {
  "kernelspec": {
   "display_name": "Python 3",
   "language": "python",
   "name": "python3"
  },
  "language_info": {
   "codemirror_mode": {
    "name": "ipython",
    "version": 3
   },
   "file_extension": ".py",
   "mimetype": "text/x-python",
   "name": "python",
   "nbconvert_exporter": "python",
   "pygments_lexer": "ipython3",
   "version": "3.7.7"
  }
 },
 "nbformat": 4,
 "nbformat_minor": 4
}
