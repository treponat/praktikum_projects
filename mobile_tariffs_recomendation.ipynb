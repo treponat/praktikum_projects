{
 "cells": [
  {
   "cell_type": "markdown",
   "metadata": {},
   "source": [
    "### Шаг 1. Откройте файл с данными и изучите общую информацию"
   ]
  },
  {
   "cell_type": "code",
   "execution_count": 1,
   "metadata": {
    "scrolled": true
   },
   "outputs": [
    {
     "name": "stdout",
     "output_type": "stream",
     "text": [
      "CALLS INFO \n",
      "\n",
      "   Unnamed: 0      id   call_date  duration  user_id\n",
      "0           0  1000_0  2018-07-25      0.00     1000\n",
      "1           1  1000_1  2018-08-17      0.00     1000\n",
      "2           2  1000_2  2018-06-11      2.85     1000\n",
      "3           3  1000_3  2018-09-21     13.80     1000\n",
      "4           4  1000_4  2018-12-15      5.18     1000\n",
      "<class 'pandas.core.frame.DataFrame'>\n",
      "RangeIndex: 202607 entries, 0 to 202606\n",
      "Data columns (total 5 columns):\n",
      " #   Column      Non-Null Count   Dtype  \n",
      "---  ------      --------------   -----  \n",
      " 0   Unnamed: 0  202607 non-null  int64  \n",
      " 1   id          202607 non-null  object \n",
      " 2   call_date   202607 non-null  object \n",
      " 3   duration    202607 non-null  float64\n",
      " 4   user_id     202607 non-null  int64  \n",
      "dtypes: float64(1), int64(2), object(2)\n",
      "memory usage: 7.7+ MB\n",
      "None\n",
      "\n",
      "\n",
      "INTERNET INFO \n",
      "\n",
      "   Unnamed: 0  Unnamed: 0.1      id  mb_used session_date  user_id\n",
      "0           0             0  1000_0   112.95   2018-11-25     1000\n",
      "1           1             1  1000_1  1052.81   2018-09-07     1000\n",
      "2           2             2  1000_2  1197.26   2018-06-25     1000\n",
      "3           3             3  1000_3   550.27   2018-08-22     1000\n",
      "4           4             4  1000_4   302.56   2018-09-24     1000\n",
      "<class 'pandas.core.frame.DataFrame'>\n",
      "RangeIndex: 149396 entries, 0 to 149395\n",
      "Data columns (total 6 columns):\n",
      " #   Column        Non-Null Count   Dtype  \n",
      "---  ------        --------------   -----  \n",
      " 0   Unnamed: 0    149396 non-null  int64  \n",
      " 1   Unnamed: 0.1  149396 non-null  int64  \n",
      " 2   id            149396 non-null  object \n",
      " 3   mb_used       149396 non-null  float64\n",
      " 4   session_date  149396 non-null  object \n",
      " 5   user_id       149396 non-null  int64  \n",
      "dtypes: float64(1), int64(3), object(2)\n",
      "memory usage: 6.8+ MB\n",
      "None\n",
      "\n",
      "\n",
      "MESSAGES INFO \n",
      "\n",
      "   Unnamed: 0      id message_date  user_id\n",
      "0           0  1000_0   2018-06-27     1000\n",
      "1           1  1000_1   2018-10-08     1000\n",
      "2           2  1000_2   2018-08-04     1000\n",
      "3           3  1000_3   2018-06-16     1000\n",
      "4           4  1000_4   2018-12-05     1000\n",
      "<class 'pandas.core.frame.DataFrame'>\n",
      "RangeIndex: 123036 entries, 0 to 123035\n",
      "Data columns (total 4 columns):\n",
      " #   Column        Non-Null Count   Dtype \n",
      "---  ------        --------------   ----- \n",
      " 0   Unnamed: 0    123036 non-null  int64 \n",
      " 1   id            123036 non-null  object\n",
      " 2   message_date  123036 non-null  object\n",
      " 3   user_id       123036 non-null  int64 \n",
      "dtypes: int64(2), object(2)\n",
      "memory usage: 3.8+ MB\n",
      "None\n",
      "\n",
      "\n",
      "TARIIFS INFO \n",
      "\n",
      "   Unnamed: 0  messages_included  mb_per_month_included  minutes_included  \\\n",
      "0           0                 50                  15360               500   \n",
      "1           1               1000                  30720              3000   \n",
      "\n",
      "   rub_monthly_fee  rub_per_gb  rub_per_message  rub_per_minute tariff_name  \n",
      "0              550         200                3               3       smart  \n",
      "1             1950         150                1               1       ultra  \n",
      "<class 'pandas.core.frame.DataFrame'>\n",
      "RangeIndex: 2 entries, 0 to 1\n",
      "Data columns (total 9 columns):\n",
      " #   Column                 Non-Null Count  Dtype \n",
      "---  ------                 --------------  ----- \n",
      " 0   Unnamed: 0             2 non-null      int64 \n",
      " 1   messages_included      2 non-null      int64 \n",
      " 2   mb_per_month_included  2 non-null      int64 \n",
      " 3   minutes_included       2 non-null      int64 \n",
      " 4   rub_monthly_fee        2 non-null      int64 \n",
      " 5   rub_per_gb             2 non-null      int64 \n",
      " 6   rub_per_message        2 non-null      int64 \n",
      " 7   rub_per_minute         2 non-null      int64 \n",
      " 8   tariff_name            2 non-null      object\n",
      "dtypes: int64(8), object(1)\n",
      "memory usage: 272.0+ bytes\n",
      "None\n",
      "\n",
      "\n",
      "USERS INFO \n",
      "\n",
      "   Unnamed: 0  user_id  age churn_date         city first_name  last_name  \\\n",
      "0           0     1000   52        NaN    Краснодар     Рафаил  Верещагин   \n",
      "1           1     1001   41        NaN       Москва       Иван       Ежов   \n",
      "2           2     1002   59        NaN  Стерлитамак    Евгений  Абрамович   \n",
      "3           3     1003   23        NaN       Москва      Белла   Белякова   \n",
      "4           4     1004   68        NaN  Новокузнецк    Татьяна   Авдеенко   \n",
      "\n",
      "     reg_date tariff  \n",
      "0  2018-05-25  ultra  \n",
      "1  2018-11-01  smart  \n",
      "2  2018-06-17  smart  \n",
      "3  2018-08-17  ultra  \n",
      "4  2018-05-14  ultra  \n",
      "<class 'pandas.core.frame.DataFrame'>\n",
      "RangeIndex: 500 entries, 0 to 499\n",
      "Data columns (total 9 columns):\n",
      " #   Column      Non-Null Count  Dtype \n",
      "---  ------      --------------  ----- \n",
      " 0   Unnamed: 0  500 non-null    int64 \n",
      " 1   user_id     500 non-null    int64 \n",
      " 2   age         500 non-null    int64 \n",
      " 3   churn_date  38 non-null     object\n",
      " 4   city        500 non-null    object\n",
      " 5   first_name  500 non-null    object\n",
      " 6   last_name   500 non-null    object\n",
      " 7   reg_date    500 non-null    object\n",
      " 8   tariff      500 non-null    object\n",
      "dtypes: int64(3), object(6)\n",
      "memory usage: 35.3+ KB\n",
      "None\n"
     ]
    }
   ],
   "source": [
    "import pandas as pd\n",
    "import numpy as np\n",
    "import matplotlib.pyplot as plt\n",
    "import math\n",
    "from scipy import stats as st\n",
    "\n",
    "calls_df = pd.read_csv('./calls.csv')\n",
    "internet_df = pd.read_csv('./internet.csv')\n",
    "messages_df = pd.read_csv('./messages.csv')\n",
    "tariffs_df = pd.read_csv('./tariffs.csv')\n",
    "users_df = pd.read_csv('./users.csv')\n",
    "# выведем основную информацию \n",
    "print(\"CALLS INFO \\n\")\n",
    "print(calls_df.head())\n",
    "print(calls_df.info())\n",
    "print(\"\\n\")\n",
    "print(\"INTERNET INFO \\n\")\n",
    "print(internet_df.head())\n",
    "print(internet_df.info())\n",
    "print(\"\\n\")\n",
    "print(\"MESSAGES INFO \\n\")\n",
    "print(messages_df.head())\n",
    "print(messages_df.info())\n",
    "print(\"\\n\")\n",
    "print(\"TARIIFS INFO \\n\")\n",
    "print(tariffs_df.head())\n",
    "print(tariffs_df.info())\n",
    "print(\"\\n\")\n",
    "print(\"USERS INFO \\n\")\n",
    "print(users_df.head())\n",
    "print(users_df.info())\n"
   ]
  },
  {
   "cell_type": "markdown",
   "metadata": {},
   "source": [
    "В полученных датафреймах необходимо обработать колонки с датами, таким образом, чтобы из типа object они стали типом datetime.\n",
    "Также заметим большую часть звонков с нулевой продолжительностью вызова. Выясним какую часть от общих данных они занимают"
   ]
  },
  {
   "cell_type": "code",
   "execution_count": 2,
   "metadata": {},
   "outputs": [
    {
     "name": "stdout",
     "output_type": "stream",
     "text": [
      "162994\n",
      "39613\n"
     ]
    }
   ],
   "source": [
    "print(calls_df[calls_df[\"duration\"] != 0.0].shape[0])\n",
    "print(calls_df[calls_df[\"duration\"] == 0.0].shape[0])"
   ]
  },
  {
   "cell_type": "markdown",
   "metadata": {},
   "source": [
    "Нулевые звонки это пятая часть от всех звонков в таблице. Сложно предположить, с чем может быть связана ошибка с данными (например, если бы их число было ближе к половине, можно было бы предположить, что таким образом записались входящие звонки). \\\n",
    "У нас нет логичных альтернатив, как мы могли бы заполнить или обработать эти данные. Разумно будет избавится от них в следующем шаге."
   ]
  },
  {
   "cell_type": "markdown",
   "metadata": {},
   "source": [
    "### Шаг 2. Подготовьте данные\n",
    "Обработаем колонки с датами и приведем их к формату datetime \\\n",
    "Выделим в датафреймах calls_df, internet_df, messages_df колонку с численным представление месяца. В дальнейшем по ней будет удобно группировать данные"
   ]
  },
  {
   "cell_type": "code",
   "execution_count": 3,
   "metadata": {
    "scrolled": true
   },
   "outputs": [],
   "source": [
    "# приведем колонки с датами в формат даты\n",
    "calls_df[\"call_date\"] = pd.to_datetime(calls_df[\"call_date\"])\n",
    "messages_df[\"message_date\"] = pd.to_datetime(messages_df[\"message_date\"])\n",
    "internet_df[\"session_date\"] = pd.to_datetime(internet_df[\"session_date\"])\n",
    "# в датафрейм добавим информацию о месяце как число для дальнейшей группировки\n",
    "calls_df[\"month\"] = calls_df[\"call_date\"].dt.month\n",
    "messages_df[\"month\"] = messages_df[\"message_date\"].dt.month\n",
    "internet_df[\"month\"] = internet_df[\"session_date\"].dt.month\n",
    "calls_df = calls_df[calls_df[\"duration\"] != 0]\n"
   ]
  },
  {
   "cell_type": "markdown",
   "metadata": {},
   "source": [
    "#### Подсчет средних затраченных пользователем минут, смс и мегабайт трафика по месяцам\n",
    "Выделим функции для необходимых расчетов в отдельную ячейку\n",
    "- get_row_revenue - вычисление выручки с пользователя (основная формула)\n",
    "- get_user_revenue - вычисление по выручки по всем колонкам через функцию get_row_revenue\n",
    "- get_pivot_table_info - вычисление сводной таблицы по месяцам и пользовательскому id\n",
    "- merge_info_func - функция объединения сводных таблиц в единый датафрейм. В полученном датафрейме будет хранится сводная информация по затраченным пользователем лимитов тарифа\n",
    "- get_tariff_row - получение данных по тарифу пользователя "
   ]
  },
  {
   "cell_type": "code",
   "execution_count": 4,
   "metadata": {},
   "outputs": [],
   "source": [
    "# основные вычисления по полученным данным\n",
    "def get_row_revenue(user_spent, tarif_limit, fine_mult, divide_by):\n",
    "    if (user_spent > tarif_limit):\n",
    "        return math.ceil((user_spent - tarif_limit) / divide_by) * fine_mult\n",
    "    return 0\n",
    "# функция для вычисления суммарной выручки по колонке\n",
    "def get_user_revenue(spending_row, tariff_row):\n",
    "    total_revenue = 0\n",
    "    columns = spending_row.index.values\n",
    "    # если у пользователя есть переплата по колонке отправляем ее на вычисление\n",
    "    if ((\"minute_spend\" in columns)):\n",
    "        total_revenue += get_row_revenue(spending_row[\"minute_spend\"], tariff_row[\"minutes_included\"], tariff_row[\"rub_per_minute\"], 1)\n",
    "    if ((\"message_sent\" in columns)):\n",
    "        total_revenue += get_row_revenue(spending_row[\"message_sent\"], tariff_row[\"messages_included\"], tariff_row[\"rub_per_message\"], 1)\n",
    "    if ((\"mb_spent_by_monts\" in columns)):\n",
    "        total_revenue += get_row_revenue(spending_row[\"mb_spent_by_monts\"], tariff_row[\"mg_per_month_included\"], tariff_row[\"rub_per_gb\"], 1024)\n",
    "    return total_revenue\n",
    "\n",
    "# функция объединения данных\n",
    "def merge_info_func(df_orig, df_new, columns):\n",
    "    if (df_orig.empty == False):\n",
    "        if (df_new.empty == False):\n",
    "            return df_orig.merge(df_new, how='left', on = columns)\n",
    "        else:\n",
    "            return df_orig\n",
    "    return df_new\n",
    "# получим строку с тарифом пользователя\n",
    "\n",
    "def get_tariff_row(tarrif_name):\n",
    "    return tariffs_df.loc[tariffs_df[\"tariff_name\"] == tarrif_name].iloc[0]\n",
    "\n",
    "# получим сводную таблицу по заданным параметрам\n",
    "def get_pivot_table_info(df, values, aggfunc, column_name):\n",
    "    new_pivot = pd.pivot_table(df, values=values, index=[\"user_id\",'month'], aggfunc=aggfunc)\n",
    "    if (new_pivot.shape[0] > 0):\n",
    "        new_pivot.columns = column_name\n",
    "    return new_pivot"
   ]
  },
  {
   "cell_type": "markdown",
   "metadata": {},
   "source": [
    "#### aggregate_info описание функции\n",
    "Возьмем каждое значение датафрейма users_df и прогоним его через функцию add_new_info. \\\n",
    "В функции мы получим связанные с пользователем затраченные в среднем смс, звонки и мегабайты и сгруппируюм их по месяцам. \\\n",
    "Объединим полученные данные через по месяцам. \\\n",
    "В связи с тем, что пользователь мог подключить тариф не в начале месяца, а отключить не в самом конце (или срез данных приходится не на самый посдедний день месяца) данные по первому и последнему месяцу пользования тарифа ненадежны (например пользователь подключил тариф 25 числа и затратил совсем немного месячного лимита). Таким образом мы немного теряем в данных, однаком получаем более четкие выборки. \\\n",
    "Получим выручку по каждому месяцу \\\n",
    "Объединим все пользовательские данные в едином датафрейме и получим сгруппированные по пользователю и по месяцу датафрейм, где в качестве ключей выступают id пользователя и месяц наблюдения, а в качестве значений среднее затраченное по мегабайтам, минутам, количеству сообщений. Также добавим в датафрейм информацию о тарифе и городе пользователя, эти дагнные пригодятся нам позднее."
   ]
  },
  {
   "cell_type": "code",
   "execution_count": 5,
   "metadata": {
    "scrolled": true
   },
   "outputs": [
    {
     "data": {
      "text/html": [
       "<div>\n",
       "<style scoped>\n",
       "    .dataframe tbody tr th:only-of-type {\n",
       "        vertical-align: middle;\n",
       "    }\n",
       "\n",
       "    .dataframe tbody tr th {\n",
       "        vertical-align: top;\n",
       "    }\n",
       "\n",
       "    .dataframe thead th {\n",
       "        text-align: right;\n",
       "    }\n",
       "</style>\n",
       "<table border=\"1\" class=\"dataframe\">\n",
       "  <thead>\n",
       "    <tr style=\"text-align: right;\">\n",
       "      <th></th>\n",
       "      <th></th>\n",
       "      <th>calls_made</th>\n",
       "      <th>minute_spend</th>\n",
       "      <th>message_sent</th>\n",
       "      <th>mb_spent_by_monts</th>\n",
       "      <th>total_revenue</th>\n",
       "      <th>tariff</th>\n",
       "      <th>city</th>\n",
       "    </tr>\n",
       "    <tr>\n",
       "      <th>user_id</th>\n",
       "      <th>month</th>\n",
       "      <th></th>\n",
       "      <th></th>\n",
       "      <th></th>\n",
       "      <th></th>\n",
       "      <th></th>\n",
       "      <th></th>\n",
       "      <th></th>\n",
       "    </tr>\n",
       "  </thead>\n",
       "  <tbody>\n",
       "    <tr>\n",
       "      <th rowspan=\"5\" valign=\"top\">1000</th>\n",
       "      <th>6</th>\n",
       "      <td>28.0</td>\n",
       "      <td>158.90</td>\n",
       "      <td>60.0</td>\n",
       "      <td>23233.77</td>\n",
       "      <td>0</td>\n",
       "      <td>ultra</td>\n",
       "      <td>Краснодар</td>\n",
       "    </tr>\n",
       "    <tr>\n",
       "      <th>7</th>\n",
       "      <td>41.0</td>\n",
       "      <td>318.80</td>\n",
       "      <td>75.0</td>\n",
       "      <td>14003.64</td>\n",
       "      <td>0</td>\n",
       "      <td>ultra</td>\n",
       "      <td>Краснодар</td>\n",
       "    </tr>\n",
       "    <tr>\n",
       "      <th>8</th>\n",
       "      <td>42.0</td>\n",
       "      <td>389.87</td>\n",
       "      <td>81.0</td>\n",
       "      <td>14055.93</td>\n",
       "      <td>0</td>\n",
       "      <td>ultra</td>\n",
       "      <td>Краснодар</td>\n",
       "    </tr>\n",
       "    <tr>\n",
       "      <th>9</th>\n",
       "      <td>46.0</td>\n",
       "      <td>440.14</td>\n",
       "      <td>57.0</td>\n",
       "      <td>14568.91</td>\n",
       "      <td>0</td>\n",
       "      <td>ultra</td>\n",
       "      <td>Краснодар</td>\n",
       "    </tr>\n",
       "    <tr>\n",
       "      <th>10</th>\n",
       "      <td>44.0</td>\n",
       "      <td>328.45</td>\n",
       "      <td>73.0</td>\n",
       "      <td>14702.49</td>\n",
       "      <td>0</td>\n",
       "      <td>ultra</td>\n",
       "      <td>Краснодар</td>\n",
       "    </tr>\n",
       "  </tbody>\n",
       "</table>\n",
       "</div>"
      ],
      "text/plain": [
       "               calls_made  minute_spend  message_sent  mb_spent_by_monts  \\\n",
       "user_id month                                                              \n",
       "1000    6            28.0        158.90          60.0           23233.77   \n",
       "        7            41.0        318.80          75.0           14003.64   \n",
       "        8            42.0        389.87          81.0           14055.93   \n",
       "        9            46.0        440.14          57.0           14568.91   \n",
       "        10           44.0        328.45          73.0           14702.49   \n",
       "\n",
       "               total_revenue tariff       city  \n",
       "user_id month                                   \n",
       "1000    6                  0  ultra  Краснодар  \n",
       "        7                  0  ultra  Краснодар  \n",
       "        8                  0  ultra  Краснодар  \n",
       "        9                  0  ultra  Краснодар  \n",
       "        10                 0  ultra  Краснодар  "
      ]
     },
     "execution_count": 5,
     "metadata": {},
     "output_type": "execute_result"
    }
   ],
   "source": [
    "# массив для хранения аггрегированных данных по пользователю \n",
    "agg_info_array = []\n",
    "\n",
    "# функция генерирующая новый датафрейм с информацией о использовании тарифа пользователем по месяцам\n",
    "def aggregate_info(row):    \n",
    "    user_id = row[\"user_id\"]\n",
    "    # получим связанные с id пользователя датафреймы по звонкам, сообщениям и интернету  \n",
    "    user_calls = calls_df[calls_df[\"user_id\"] == user_id]\n",
    "    user_messages = messages_df[messages_df[\"user_id\"] == user_id]\n",
    "    internet_by_user = internet_df[internet_df[\"user_id\"] == user_id]\n",
    "    # тариф пользователя\n",
    "    user_tariff = users_df[users_df[\"user_id\"] == user_id].iloc[0][\"tariff\"]\n",
    "    # строка с информацией о тарифе пользователя\n",
    "    tariff_row = get_tariff_row(user_tariff)\n",
    "    # сводная таблица с информацией о количестве звонков сделанных пользователем, и потраченных минут\n",
    "    calls_pivot = get_pivot_table_info(user_calls, 'duration', [\"count\", \"sum\"], [\"calls_made\", \"minute_spend\"])\n",
    "    # сводная таблица с информацией о количестве отправленных сообщений пользователя\n",
    "    messages_pivot = get_pivot_table_info(user_messages, 'id', [\"count\"], [\"message_sent\"])\n",
    "    # сводная таблица с информацией о затраченных пользователем мегабайт\n",
    "    internet_pivot = get_pivot_table_info(internet_by_user, 'mb_used', [\"sum\"], [\"mb_spent_by_monts\"])\n",
    "    # получим общий датафрейм с аггрегированной информацией по месяцам\n",
    "    merged_info = pd.DataFrame()\n",
    "    merged_info = merge_info_func(merged_info, calls_pivot, [\"user_id\",\"month\"])\n",
    "    merged_info = merge_info_func(merged_info, messages_pivot, [\"user_id\",\"month\"])\n",
    "    merged_info = merge_info_func(merged_info, internet_pivot, [\"user_id\",\"month\"])\n",
    "    if ((merged_info.empty == False) & (merged_info.shape[0] > 2)):\n",
    "        merged_info.drop(merged_info.tail(1).index,inplace=True)\n",
    "        merged_info.drop(merged_info.head(1).index,inplace=True)\n",
    "        # посчитаем выручку от пользователя по месяцам\n",
    "        merged_info[\"total_revenue\"] = merged_info.apply(lambda x: get_user_revenue(x, tariff_row), axis = 1)\n",
    "        # добавляем информацию о тарифе и городе пользователя\n",
    "        merged_info[\"tariff\"] = row[\"tariff\"]\n",
    "        merged_info[\"city\"] = row[\"city\"]\n",
    "        new_row = pd.DataFrame(merged_info)\n",
    "        # если полученные аггрегированные данные не пустые добавляем их в общий набор\n",
    "        agg_info_array.append(merged_info)\n",
    "\n",
    "# получим единый, аггрегированный датафрейм с информацией по всем пользователям\n",
    "users_df.apply(aggregate_info, axis=1)\n",
    "agg_df = pd.concat(agg_info_array, sort=False)\n",
    "\n",
    "agg_df.head()"
   ]
  },
  {
   "cell_type": "markdown",
   "metadata": {},
   "source": [
    "По итогу получим отдельный датафрейм с списком всех необходимых для дальнейших расчетов данных."
   ]
  },
  {
   "cell_type": "markdown",
   "metadata": {},
   "source": [
    "### Шаг 3. Проанализируйте данные"
   ]
  },
  {
   "cell_type": "code",
   "execution_count": 6,
   "metadata": {},
   "outputs": [
    {
     "name": "stdout",
     "output_type": "stream",
     "text": [
      "Колонка minute_spend\n",
      "Для тарифа ultra среднее: 556.9330988023953. Для тарифа smart среднее 422.62533548387097 \n",
      "Для тарифа ultra дисперсия: 72157.74915814915. Для тарифа smart дисперсия 25381.943971449673 \n",
      "Для тарифа ultra стандартное распределение: 268.62194466973307. Для тарифа smart распределение 159.3171176347654 \n",
      "Колонка message_sent\n",
      "Для тарифа ultra среднее: 63.87160940325497. Для тарифа smart среднее 41.37795857988166 \n",
      "Для тарифа ultra дисперсия: 2049.394717876143. Для тарифа smart дисперсия 697.3677743639382 \n",
      "Для тарифа ultra стандартное распределение: 45.2702409743547. Для тарифа smart распределение 26.407721870012534 \n",
      "Колонка mb_spent_by_monts\n",
      "Для тарифа ultra среднее: 21142.497503649633. Для тарифа smart среднее 17373.643277527364 \n",
      "Для тарифа ultra дисперсия: 84756761.73352958. Для тарифа smart дисперсия 22543865.91932824 \n",
      "Для тарифа ultra стандартное распределение: 9206.343559390427. Для тарифа smart распределение 4748.0381126659295 \n",
      "Колонка total_revenue\n",
      "Для тарифа ultra среднее: 131.11432706222865. Для тарифа smart среднее 777.9349645846748 \n",
      "Для тарифа ultra дисперсия: 150262.379664003. Для тарифа smart дисперсия 574568.1690924118 \n",
      "Для тарифа ultra стандартное распределение: 387.63691731309984. Для тарифа smart распределение 758.0027500559689 \n"
     ]
    },
    {
     "data": {
      "image/png": "[encoded data removed]",
      "text/plain": [
       "<Figure size 1080x288 with 1 Axes>"
      ]
     },
     "metadata": {
      "needs_background": "light"
     },
     "output_type": "display_data"
    },
    {
     "data": {
      "image/png": "[encoded data removed]",
      "text/plain": [
       "<Figure size 1080x288 with 1 Axes>"
      ]
     },
     "metadata": {
      "needs_background": "light"
     },
     "output_type": "display_data"
    },
    {
     "data": {
      "image/png": "[encoded data removed]",
      "text/plain": [
       "<Figure size 1080x288 with 1 Axes>"
      ]
     },
     "metadata": {
      "needs_background": "light"
     },
     "output_type": "display_data"
    },
    {
     "data": {
      "image/png": "[encoded data removed]",
      "text/plain": [
       "<Figure size 1080x288 with 1 Axes>"
      ]
     },
     "metadata": {
      "needs_background": "light"
     },
     "output_type": "display_data"
    },
    {
     "data": {
      "image/png": "[encoded data removed]",
      "text/plain": [
       "<Figure size 1080x288 with 1 Axes>"
      ]
     },
     "metadata": {
      "needs_background": "light"
     },
     "output_type": "display_data"
    },
    {
     "data": {
      "image/png": "[encoded data removed]",
      "text/plain": [
       "<Figure size 1080x288 with 1 Axes>"
      ]
     },
     "metadata": {
      "needs_background": "light"
     },
     "output_type": "display_data"
    },
    {
     "data": {
      "image/png": "[encoded data removed]",
      "text/plain": [
       "<Figure size 1080x288 with 1 Axes>"
      ]
     },
     "metadata": {
      "needs_background": "light"
     },
     "output_type": "display_data"
    },
    {
     "data": {
      "image/png": "[encoded data removed]",
      "text/plain": [
       "<Figure size 1080x288 with 1 Axes>"
      ]
     },
     "metadata": {
      "needs_background": "light"
     },
     "output_type": "display_data"
    }
   ],
   "source": [
    "# функция для отображения гистограмм\n",
    "def hist_draw(df, column, title):\n",
    "    df[column].hist(figsize=(15,4), bins=50)\n",
    "    plt.suptitle(title, fontsize='large')\n",
    "    plt.show()\n",
    "# функция вывода информации (среднее, дисперсия, распределение) по разным тарифам\n",
    "def get_tarrif_info(ultra_df, smart_df, column):\n",
    "    print(\"Колонка\", column)\n",
    "    print(\"Для тарифа ultra среднее: {}. Для тарифа smart среднее {} \".format(ultra_df[column].mean(), smart_df[column].mean()))\n",
    "    print(\"Для тарифа ultra дисперсия: {}. Для тарифа smart дисперсия {} \".format(ultra_df[column].var(), smart_df[column].var()))\n",
    "    print(\"Для тарифа ultra стандартное распределение: {}. Для тарифа smart распределение {} \".format(ultra_df[column].std(), smart_df[column].std()))\n",
    "\n",
    "# получим два датафрейма с выборкой по имени тарифа\n",
    "ultra_df = agg_df[agg_df[\"tariff\"] == \"ultra\"]\n",
    "smart_df = agg_df[agg_df[\"tariff\"] == \"smart\"]\n",
    "\n",
    "# информация (среднее, дисперсия, распределение) по основным колонкам \n",
    "get_tarrif_info(ultra_df, smart_df, \"minute_spend\")\n",
    "get_tarrif_info(ultra_df, smart_df, \"message_sent\")\n",
    "get_tarrif_info(ultra_df, smart_df, \"mb_spent_by_monts\")\n",
    "get_tarrif_info(ultra_df, smart_df, \"total_revenue\")\n",
    "\n",
    "# гистограммы по основным колонкам \n",
    "hist_draw(ultra_df, \"minute_spend\", \"ultra minute_spend\")\n",
    "hist_draw(smart_df, \"minute_spend\", \"smart minute_spend\")\n",
    "hist_draw(ultra_df, \"message_sent\", \"ultra message_sent\")\n",
    "hist_draw(smart_df, \"message_sent\", \"smart message_sent\")\n",
    "hist_draw(ultra_df, \"mb_spent_by_monts\", \"ultra mb_spent_by_monts\")\n",
    "hist_draw(smart_df, \"mb_spent_by_monts\", \"smart mb_spent_by_monts\")\n",
    "# дополнительно изучим для дальнейших наблюдений\n",
    "hist_draw(ultra_df, \"total_revenue\", \"ultra total_revenue\")\n",
    "hist_draw(smart_df, \"total_revenue\", \"smart total_revenue\")"
   ]
  },
  {
   "cell_type": "markdown",
   "metadata": {},
   "source": [
    "#### Выводы\n",
    "\n",
    "|               | smart Среднее | ultra Среднее | smart дисперсия | ultra  дисперсия | smart ст. отклонение | ultra  ст. отклонение |\n",
    "|:-------------:|:-------------:|:-------------:|:---------------:|:----------------:|:--------------------:|:---------------------:|\n",
    "|  Минуты разговора  |      423      |      557      |      25381      |       72157      |          159         |          268          |\n",
    "|  Отправленных сообщений |       41      |       63      |       697       |       2049       |          26          |           45          |\n",
    "| Мегабайт |     17373     |     21142     |     22543865    |     84756761     |         4748         |          9206         |\n",
    "\n",
    "\n",
    "#### Пакет минут\n",
    "Согласно данным:\n",
    "- гистограмма тарифа смарт близка к нормальному распределению, и достигает пика немного не доходя до предельного лимита по тарифу (500)\n",
    "- гистограмма тарифа ультра скошенна вправо, но не переступает лимит па тарифу (3000)\n",
    "- среднее этих двух тарифов отличается не столь сильно, 423/557, как их стандартное распределение 159/268 (почти в два раза). Из этого можем сделать вывод, что пользователи тарифа смарт используют минуты более сбалансировано, тогда как пользователи тарифа ультра либо используют минуты по разным сценариям\n",
    "\n",
    "#### Пакет смс\n",
    "Использование пакета смс между двумя тарифами отличается незначительно. Гистограммы обоих тарифов скошены вправо.  Можно сказать, что пользователи тарифа ультра в силу большего лимита отправляют сообщения немного активнее. \\\n",
    "Также можно отметить, что у пользователей тарифа ультра чаще встречаются значения близкие к нулю. Будем считать, что в тарифе ультра пакет смс не является важным лимитом для пользователей.\n",
    "#### Пакет мегабайт\n",
    "В данном случае наблюдаем сценарий почти идентичный гистограммам для пакета минут. Тогда как у тарифа смарт гистограмма близка к нормальному распределению, для пользователей тарифа ультра гистограмма скошена вправо. Можно заметить, что пользователи тарифа ультра в силу повышенного лимита крайне редко преступают лимиты трафика, тогда как для большинство пользователей тарифа смарт превышают ежемесячный лимит ."
   ]
  },
  {
   "cell_type": "markdown",
   "metadata": {},
   "source": [
    "#### Шаг 4. Проверьте гипотезы\n",
    "\n",
    "Необходимо выяснить различаются ли между собой выручка между пользователями тарифов смарт и ультра, а также между жителями Москвы и других регионов. \\\n",
    "Во первых, отметим, что для обоих гипотез нам необходимо выяснить различие выручек, при этом не обязательно выяснять в большую или меньшую сторону. \\\n",
    "Во вторых данные по выручке будут лежать в двух разных, независимых выборках. \\\n",
    "Для получения выборки из совокупности данных используем функцию sample. Возьмем выборку в 30 элементов для каждой из гипотез. \\\n",
    "Учитывая, что нам необходимо обработать выборки и выяснить степень равенства среднего будем использовать метод scipy.stats.ttest_ind \\\n",
    "В качестве порогового значения в обоих гипотезах укажем 5%\n",
    "\n",
    "Сформулируем нулевую теорию следующим образом: выручка тарифов смарт и ультра схожести, тогда альтернативная гипотеза будет говорить о различии выручки двух тарифов."
   ]
  },
  {
   "cell_type": "code",
   "execution_count": 10,
   "metadata": {},
   "outputs": [
    {
     "name": "stdout",
     "output_type": "stream",
     "text": [
      "p-значение: 3.477647777668263e-136\n",
      "Опровергаем гипотезу о схожести выручки пользователей тарифов «Ультра» и «Смарт»\n"
     ]
    }
   ],
   "source": [
    "alpha = .01\n",
    "\n",
    "tariff_results = st.ttest_ind(\n",
    "    ultra_df[\"total_revenue\"], \n",
    "    smart_df[\"total_revenue\"], equal_var = False)\n",
    "\n",
    "print('p-значение:', tariff_results.pvalue)\n",
    "# если полученное значение меньше уровня критической значимости опровергнем теорию\n",
    "if (tariff_results.pvalue < alpha):\n",
    "    print(\"Опровергаем гипотезу о схожести выручки пользователей тарифов «Ультра» и «Смарт»\")\n",
    "else:\n",
    "    print(\"Не удалось опровергнуть гипотезу о схожести выручки пользователей тарифов «Ультра» и «Смарт»\")\n",
    "\n"
   ]
  },
  {
   "cell_type": "markdown",
   "metadata": {},
   "source": [
    "Полученное в результате проверки гипотезы значение, указывает на различие выручки между тарифами смарт и ультра"
   ]
  },
  {
   "cell_type": "code",
   "execution_count": 17,
   "metadata": {},
   "outputs": [
    {
     "name": "stdout",
     "output_type": "stream",
     "text": [
      "Для тарифа ultra дисперсия: 428896.48037359584. Для тарифа smart дисперсия 555818.6416951491 \n",
      "p-значение: 0.025505014095661964\n",
      "Не удалось опровергнуть гипотезу о схожести выручки пользователей из Москвы и из других регионов\n"
     ]
    }
   ],
   "source": [
    "final_df_moscow = agg_df[(agg_df[\"city\"] == \"Москва\")]\n",
    "final_df_else = agg_df[(agg_df[\"city\"] != \"Москва\")]\n",
    "# рассчитаем p-значение\n",
    "\n",
    "\n",
    "print(\"Для тарифа ultra дисперсия: {}. Для тарифа smart дисперсия {} \".format(final_df_moscow[\"total_revenue\"].var(), final_df_else[\"total_revenue\"].var()))\n",
    "\n",
    "\n",
    "\n",
    "cities_results = st.ttest_ind(final_df_moscow[\"total_revenue\"],\n",
    "final_df_else[\"total_revenue\"], equal_var = False)\n",
    "\n",
    "print('p-значение:', cities_results.pvalue)\n",
    "# если полученное значение меньше уровня критической значимости опровергнем теорию\n",
    "if (cities_results.pvalue < alpha):\n",
    "    print(\"Опровергаем гипотезу о схожести выручки пользователей из Москвы и из других регионов\")\n",
    "else:\n",
    "    print(\"Не удалось опровергнуть гипотезу о схожести выручки пользователей из Москвы и из других регионов\")"
   ]
  },
  {
   "cell_type": "markdown",
   "metadata": {},
   "source": [
    "Полученное в результате проверки гипотезы значение, указывает на схожесть выручки между абонентами из Москвы и других городов"
   ]
  },
  {
   "cell_type": "markdown",
   "metadata": {},
   "source": [
    "### Шаг 5. Напишите общий вывод\n",
    "\n",
    "1) Тариф смарт подходит для людей с сбалансированным использованием минут вызова и смс. Это значит, что для подавляющего большинства предоставленного лимита достаточно для ежемесячного пользования. Однако для пользователей было бы привлекательно, если верхний лимит трафика повысить до 20 гб. Таким образом покрылась бы большая часть использования интернета пользователями.  \n",
    "2) Тариф ультра привлекателен для людей часто использующих интернет в больших объемах и мобильной связью. Большинству пользователей предоставленных лимитов достаточно \\\n",
    "3) Наблюдая как отличаются между собой значения стандартного отклонения для минут и интернет трафика, относительно среднего потребления для тарифов ультра и смарт (среднее почти не отличается, но ст. отклонения для ультра больше почти в два раза) можно сделать вывод, что тарифом ультра пользуются две группы пользователей, те кому в первую очередь привлекателен лимит трафика, но не интересна мобильная связь и наоборот. Возможно стоит предложить пользователям альтернативы в виде тарифа с высоким лимитом трафика и отдельно с большим пакетом минут. \\\n",
    "4) Опровергнув гипотезу, о схожести выручки тарифов Ультра и Смарт, а также изучив гистограмму с выручкой пользователй разных тарифов, можем предположить, что пользователи тарифа Смарт недооценивают свои запросы на интернет и мобильную связь в месяц и могут оказаться в ситуации, когда им было выгоднее использовать тариф ультра. Возможно стоит разработать эвристику анализирующую затраты пользователя и предлагающую ему альтернативный тарифный план. \\\n",
    "5) Подтвердив гипотезу о схожести выручки для пользователей из Москвы и других регионов, сделаем вывод о схожести шаблонов использования мобильной связи и интернета вне зависимости от места проживания и отсутствия необходимости изменять стоимость тарифа в зависимости от региона проживания."
   ]
  },
  {
   "cell_type": "code",
   "execution_count": null,
   "metadata": {},
   "outputs": [],
   "source": []
  }
 ],
 "metadata": {
  "kernelspec": {
   "display_name": "Python 3",
   "language": "python",
   "name": "python3"
  },
  "language_info": {
   "codemirror_mode": {
    "name": "ipython",
    "version": 3
   },
   "file_extension": ".py",
   "mimetype": "text/x-python",
   "name": "python",
   "nbconvert_exporter": "python",
   "pygments_lexer": "ipython3",
   "version": "3.7.7"
  }
 },
 "nbformat": 4,
 "nbformat_minor": 4
}
